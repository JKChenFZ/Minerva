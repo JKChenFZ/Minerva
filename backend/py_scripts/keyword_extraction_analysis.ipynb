{
 "cells": [
  {
   "cell_type": "code",
   "execution_count": 226,
   "metadata": {},
   "outputs": [],
   "source": [
    "import numpy as np\n",
    "import itertools\n",
    "import time\n",
    "import collections\n",
    "from Levenshtein import distance \n",
    "\n",
    "from sklearn.feature_extraction.text import CountVectorizer\n",
    "from sklearn.metrics.pairwise import cosine_similarity\n",
    "from sentence_transformers import SentenceTransformer, util\n",
    "from youtube_transcript_api import YouTubeTranscriptApi\n",
    "\n",
    "import pandas as pd\n",
    "from sklearn.feature_extraction.text import TfidfVectorizer\n",
    "\n",
    "from gensim.summarization import keywords\n",
    "from rake_nltk import Rake, Metric\n",
    "from gensim.summarization.keywords import get_graph\n",
    "import networkx as nx\n",
    "import matplotlib.pyplot as plt\n",
    "from random import randrange\n",
    "\n"
   ]
  },
  {
   "cell_type": "code",
   "execution_count": 2,
   "metadata": {},
   "outputs": [],
   "source": [
    "# TODO\n",
    "# Change delta? teacher talk slow\n",
    "# Change Model\n",
    "# Change input format (concat to a single string or stay splitted)\n",
    "# Filter similarity output, one keyword per unique sentence?\n",
    "# Size of dataset and how it affects TF-IDF"
   ]
  },
  {
   "cell_type": "markdown",
   "metadata": {},
   "source": [
    "## Data Retrieval and Processing"
   ]
  },
  {
   "cell_type": "code",
   "execution_count": 3,
   "metadata": {},
   "outputs": [],
   "source": [
    "def is_in_range(segment, time_low, time_high):\n",
    "    segment_low = segment['start']\n",
    "    segment_high = segment['start'] + segment['duration']\n",
    "    \n",
    "    if time_low <= segment_low <= time_high or time_low <= segment_high <= time_high:\n",
    "        return True\n",
    "    \n",
    "    return False\n",
    "\n",
    "def get_caption_segment(video_id, timestamp, duration, delta=15, concat_sentences=False):\n",
    "    raw_transcript = YouTubeTranscriptApi.get_transcript(video_id)\n",
    "    \n",
    "    low_timestamp = max(timestamp - delta, 0)\n",
    "    high_timestamp = min(timestamp + delta, duration)\n",
    "    \n",
    "    # Get rid of music\n",
    "    filtered_transcript = list(filter(lambda e: e['text'] != '[Music]', raw_transcript))\n",
    "    target_segment = filter(lambda e: is_in_range(e, low_timestamp, high_timestamp), filtered_transcript)\n",
    "    text_segments = list(map(lambda e: e['text'], list(target_segment)))\n",
    "    \n",
    "    if concat_sentences:\n",
    "        return \" \".join(text_segments)\n",
    "    \n",
    "    return text_segments"
   ]
  },
  {
   "cell_type": "code",
   "execution_count": 4,
   "metadata": {},
   "outputs": [],
   "source": [
    "video_id = \"vd0fMpAIs1s\"\n",
    "timestamp = 90\n",
    "duration = 255\n",
    "text = get_caption_segment(video_id, timestamp, duration, delta = 5)"
   ]
  },
  {
   "cell_type": "code",
   "execution_count": 5,
   "metadata": {},
   "outputs": [
    {
     "data": {
      "text/plain": [
       "['came to America',\n",
       " 'seeking independence from British rulers',\n",
       " 'they founded Virginia the first American',\n",
       " 'colony in 1607 settlers from many']"
      ]
     },
     "execution_count": 5,
     "metadata": {},
     "output_type": "execute_result"
    }
   ],
   "source": [
    "text"
   ]
  },
  {
   "cell_type": "markdown",
   "metadata": {},
   "source": [
    "## Timer Class"
   ]
  },
  {
   "cell_type": "code",
   "execution_count": 82,
   "metadata": {},
   "outputs": [],
   "source": [
    "class Timer:\n",
    "    def __init__(self, name=\"\", print_time=True):\n",
    "        self.name = name\n",
    "        self.start_time = None\n",
    "        self.print_time = print_time\n",
    "    def __enter__(self):\n",
    "        self.start_time = time.perf_counter()\n",
    "    def __exit__(self, type, value, traceback):\n",
    "        end_time = time.perf_counter()\n",
    "        if self.print_time:\n",
    "            print(\"[Timer] {} Function took {}\".format(self.name, end_time - self.start_time))"
   ]
  },
  {
   "cell_type": "markdown",
   "metadata": {},
   "source": [
    "## Term Frequency Algorithm"
   ]
  },
  {
   "cell_type": "code",
   "execution_count": 7,
   "metadata": {},
   "outputs": [],
   "source": [
    "def extract_keyword_with_freq(sentences):\n",
    "    with Timer(\"Term Frequency\"):\n",
    "        counter = collections.Counter()\n",
    "        for sentence in sentences:\n",
    "            for word in sentence.split(\" \"):\n",
    "                counter.update({word: 1})\n",
    "                \n",
    "        print(counter.most_common(5))"
   ]
  },
  {
   "cell_type": "code",
   "execution_count": 8,
   "metadata": {},
   "outputs": [
    {
     "name": "stdout",
     "output_type": "stream",
     "text": [
      "[('from', 2), ('came', 1), ('to', 1), ('America', 1), ('seeking', 1)]\n",
      "[Timer] Term Frequency Function took 0.00016946499999903608\n"
     ]
    }
   ],
   "source": [
    "# Test run\n",
    "extract_keyword_with_freq(text)"
   ]
  },
  {
   "cell_type": "markdown",
   "metadata": {},
   "source": [
    "## TF-IDF Algorithm"
   ]
  },
  {
   "cell_type": "code",
   "execution_count": 219,
   "metadata": {},
   "outputs": [],
   "source": [
    "def extract_keyword_with_tfidf(sentences, ngram_range=(1,1), use_stopwords=False, print_time=True):\n",
    "    with Timer(\"TFIDF\", print_time):\n",
    "        stopwords = []\n",
    "        if use_stopwords:\n",
    "            stopwords = 'english'\n",
    "\n",
    "        tfIdfVectorizer=TfidfVectorizer(ngram_range=ngram_range, use_idf=True, stop_words=stopwords)\n",
    "        tfIdf = tfIdfVectorizer.fit_transform(sentences)\n",
    "        df = pd.DataFrame(tfIdf[0].T.todense(), index=tfIdfVectorizer.get_feature_names(), columns=[\"TF-IDF\"])\n",
    "        df = df.sort_values('TF-IDF', ascending=False)\n",
    "    return df.index.to_list()[:5]"
   ]
  },
  {
   "cell_type": "code",
   "execution_count": 220,
   "metadata": {},
   "outputs": [
    {
     "name": "stdout",
     "output_type": "stream",
     "text": [
      "[Timer] TFIDF Function took 0.0030315449985209852\n"
     ]
    },
    {
     "data": {
      "text/plain": [
       "['1600s', 'back', 'early', 'english', 'in']"
      ]
     },
     "execution_count": 220,
     "metadata": {},
     "output_type": "execute_result"
    }
   ],
   "source": [
    "# Test run\n",
    "extract_keyword_with_tfidf(text)"
   ]
  },
  {
   "cell_type": "markdown",
   "metadata": {},
   "source": [
    "## TextRank"
   ]
  },
  {
   "cell_type": "code",
   "execution_count": 102,
   "metadata": {},
   "outputs": [],
   "source": [
    "def extract_keywords_with_text_rank(sentences, show_graph=False, print_time=True):\n",
    "    with Timer(\"TextRank\", print_time):\n",
    "        words = keywords(\" \".join(sentences))\n",
    "\n",
    "    if (show_graph):\n",
    "        textGraph = get_graph(\" \".join(sentences))\n",
    "        graph = nx.Graph()\n",
    "        for edge in textGraph.edges():\n",
    "            graph.add_node(edge[0])\n",
    "            graph.add_node(edge[1])\n",
    "            graph.add_weighted_edges_from([(edge[0], edge[1], textGraph.edge_weight(edge))])\n",
    "\n",
    "            textGraph.edge_weight(edge)\n",
    "        pos = nx.spring_layout(graph)\n",
    "        plt.figure()\n",
    "        nx.draw(graph, pos, edge_color='black', width=1, linewidths=1,\n",
    "                node_size=500, node_color='seagreen', alpha=0.9,\n",
    "                labels={node: node for node in graph.nodes()})\n",
    "        plt.axis('off')\n",
    "        plt.show()\n",
    "    \n",
    "    return words.split('\\n')"
   ]
  },
  {
   "cell_type": "code",
   "execution_count": 103,
   "metadata": {},
   "outputs": [
    {
     "name": "stdout",
     "output_type": "stream",
     "text": [
      "[Timer] TextRank Function took 0.004747595001390437\n"
     ]
    },
    {
     "data": {
      "image/png": "[encoded data removed]",
      "text/plain": [
       "<Figure size 432x288 with 1 Axes>"
      ]
     },
     "metadata": {},
     "output_type": "display_data"
    },
    {
     "data": {
      "text/plain": [
       "['settlers', 'seeking']"
      ]
     },
     "execution_count": 103,
     "metadata": {},
     "output_type": "execute_result"
    }
   ],
   "source": [
    "# Test Run\n",
    "extract_keywords_with_text_rank(text, show_graph=True)"
   ]
  },
  {
   "cell_type": "markdown",
   "metadata": {},
   "source": [
    "## Rake Algorithm"
   ]
  },
  {
   "cell_type": "code",
   "execution_count": 300,
   "metadata": {},
   "outputs": [],
   "source": [
    "# Parameters to tune\n",
    "# https://pypi.org/project/rake-nltk/\n",
    "def extract_keywords_with_rake(sentences, stopwords=None, print_time=True, period_split=False, ranking_metric=Metric.WORD_DEGREE):\n",
    "    with Timer(\"Rake\", print_time):\n",
    "        rake = None\n",
    "        if stopwords is not None:\n",
    "            rake = Rake(stopwords=stopwords, ranking_metric=ranking_metric)\n",
    "        else:\n",
    "            rake = Rake(ranking_metric=ranking_metric)\n",
    "        \n",
    "        if period_split:\n",
    "            rake.extract_keywords_from_text(\".\".join(sentences))\n",
    "        else:\n",
    "            rake.extract_keywords_from_text(\" \".join(sentences))\n",
    "    return rake.get_ranked_phrases()[:4]"
   ]
  },
  {
   "cell_type": "code",
   "execution_count": 229,
   "metadata": {},
   "outputs": [
    {
     "name": "stdout",
     "output_type": "stream",
     "text": [
      "[Timer] Rake Function took 0.0011405669938540086\n"
     ]
    },
    {
     "data": {
      "text/plain": [
       "['early 1600s english settlers came',\n",
       " 'many different nations',\n",
       " 'first american colony',\n",
       " 'america seeking independence']"
      ]
     },
     "execution_count": 229,
     "metadata": {},
     "output_type": "execute_result"
    }
   ],
   "source": [
    "# Test Run\n",
    "extract_keywords_with_rake(text)"
   ]
  },
  {
   "cell_type": "markdown",
   "metadata": {},
   "source": [
    "## Bert Algorithm"
   ]
  },
  {
   "cell_type": "code",
   "execution_count": 107,
   "metadata": {},
   "outputs": [],
   "source": [
    "def extract_keywords_with_bert(sentences, n_gram=(1,1), use_stop_words=True, model_name='distilbert-base-nli-mean-tokens', print_time=True):\n",
    "    with Timer(\"Bert\", print_time):\n",
    "        n_gram_range = n_gram\n",
    "\n",
    "        stop_words = []\n",
    "        if use_stop_words:\n",
    "            stop_words = 'english'\n",
    "\n",
    "        # Extract candidate words/phrases\n",
    "        count = CountVectorizer(ngram_range=n_gram_range, stop_words=stop_words).fit(sentences)\n",
    "        candidates = count.get_feature_names()\n",
    "\n",
    "        model = SentenceTransformer(model_name)\n",
    "        doc_embedding = model.encode(sentences, convert_to_tensor=True)\n",
    "        candidate_embeddings = model.encode(candidates, convert_to_tensor=True)\n",
    "\n",
    "        cosine_scores = util.pytorch_cos_sim(doc_embedding, candidate_embeddings)\n",
    "\n",
    "    keywords = [candidates[index] for index in cosine_scores.argsort()[0][-5:]]\n",
    "    return keywords[:5]"
   ]
  },
  {
   "cell_type": "code",
   "execution_count": 108,
   "metadata": {},
   "outputs": [
    {
     "name": "stdout",
     "output_type": "stream",
     "text": [
      "[Timer] Bert Function took 1.7048271319981723\n"
     ]
    },
    {
     "data": {
      "text/plain": [
       "['settlers', 'british', 'english', '1607', '1600s']"
      ]
     },
     "execution_count": 108,
     "metadata": {},
     "output_type": "execute_result"
    }
   ],
   "source": [
    "# Test Run\n",
    "extract_keywords_with_bert(text)"
   ]
  },
  {
   "cell_type": "code",
   "execution_count": 42,
   "metadata": {},
   "outputs": [],
   "source": [
    "video_id = \"vd0fMpAIs1s\"\n",
    "timestamp = 90\n",
    "duration = 255\n",
    "text = get_caption_segment(video_id, timestamp, duration, delta = 10)"
   ]
  },
  {
   "cell_type": "code",
   "execution_count": 43,
   "metadata": {},
   "outputs": [
    {
     "data": {
      "text/plain": [
       "['back in the early 1600s English settlers',\n",
       " 'came to America',\n",
       " 'seeking independence from British rulers',\n",
       " 'they founded Virginia the first American',\n",
       " 'colony in 1607 settlers from many',\n",
       " 'different nations such as Sweden and']"
      ]
     },
     "execution_count": 43,
     "metadata": {},
     "output_type": "execute_result"
    }
   ],
   "source": [
    "text"
   ]
  },
  {
   "cell_type": "code",
   "execution_count": 53,
   "metadata": {},
   "outputs": [
    {
     "name": "stdout",
     "output_type": "stream",
     "text": [
      "[Timer] Bert Function took 1.2341444819999197\n",
      "['settlers', 'british', 'english', '1607', '1600s']\n",
      "[Timer] Bert Function took 1.6987837309998213\n",
      "['in 1607 settlers', 'english settlers', '1600s english', 'early 1600s english', '1600s english settlers']\n",
      "[Timer] Bert Function took 2.4057032389996493\n",
      "['british', 'english', 'settlers', '1607', '1600s']\n",
      "[Timer] Bert Function took 3.205275719999918\n",
      "['the early 1600s', '1600s english', 'english settlers', 'early 1600s english', '1600s english settlers']\n",
      "[Timer] Bert Function took 2.55857854199985\n",
      "['early', '1607', 'settlers', 'english', '1600s']\n",
      "[Timer] Bert Function took 3.602212623000014\n",
      "['the early 1600s', 'english settlers', '1600s english', 'early 1600s english', '1600s english settlers']\n",
      "[Timer] Bert Function took 5.909974878999947\n",
      "['english', 'british', 'settlers', '1607', '1600s']\n",
      "[Timer] Bert Function took 6.744863056999748\n",
      "['in 1607 settlers', 'english settlers', '1600s english', 'early 1600s english', '1600s english settlers']\n",
      "[Timer] Bert Function took 1.90651276699964\n",
      "['different', 'settlers', 'early', 'english', '1600s']\n",
      "[Timer] Bert Function took 2.229733747999944\n",
      "['in 1607 settlers', 'early 1600s', 'the early 1600s', 'early 1600s english', '1600s english settlers']\n",
      "[Timer] Rake Function took 0.0029581320000033884\n",
      "[(23.5, 'early 1600s english settlers came'), (9.0, 'many different nations'), (9.0, 'first american colony'), (9.0, 'america seeking independence')]\n",
      "[Timer] TextRank Function took 0.003328417000375339\n",
      "seeking\n",
      "settlers\n"
     ]
    },
    {
     "data": {
      "image/png": "[encoded data removed]",
      "text/plain": [
       "<Figure size 432x288 with 1 Axes>"
      ]
     },
     "metadata": {},
     "output_type": "display_data"
    },
    {
     "name": "stdout",
     "output_type": "stream",
     "text": [
      "[Timer] TFIDF Function took 0.0036547930003507645\n",
      "           TF-IDF\n",
      "1600s    0.407662\n",
      "back     0.407662\n",
      "early    0.407662\n",
      "english  0.407662\n",
      "in       0.334289\n"
     ]
    }
   ],
   "source": [
    "extract_keywords_with_bert(text, (1, 1), use_stop_words=True)\n",
    "extract_keywords_with_bert(text, (1, 3), use_stop_words=False)\n",
    "extract_keywords_with_bert(text, (1, 1), use_stop_words=True, model_name=\"bert-base-nli-stsb-mean-tokens\") # About 450 MB in size\n",
    "extract_keywords_with_bert(text, (1, 3), use_stop_words=False, model_name=\"bert-base-nli-stsb-mean-tokens\")\n",
    "extract_keywords_with_bert(text, (1, 1), use_stop_words=True, model_name=\"roberta-base-nli-stsb-mean-tokens\") # About 460 MB in size\n",
    "extract_keywords_with_bert(text, (1, 3), use_stop_words=False, model_name=\"roberta-base-nli-stsb-mean-tokens\")\n",
    "extract_keywords_with_bert(text, (1, 1), use_stop_words=True, model_name=\"xlm-r-bert-base-nli-stsb-mean-tokens\") # About 1 GB in size\n",
    "extract_keywords_with_bert(text, (1, 3), use_stop_words=False, model_name=\"xlm-r-bert-base-nli-stsb-mean-tokens\")\n",
    "extract_keywords_with_bert(text, (1, 1), use_stop_words=True, model_name=\"distilroberta-base-paraphrase-v1\") # About 1 GB in size\n",
    "extract_keywords_with_bert(text, (1, 3), use_stop_words=False, model_name=\"distilroberta-base-paraphrase-v1\")\n",
    "\n",
    "extract_keywords_with_rake(text)\n",
    "extract_keywords_with_text_rank(text)\n",
    "extract_keyword_with_tfidf(text)"
   ]
  },
  {
   "cell_type": "code",
   "execution_count": 34,
   "metadata": {},
   "outputs": [],
   "source": [
    "fixed_text = [\n",
    "    'back in the early 1600s',\n",
    "    'English settlers came to America, seeking independence from British rulers.',\n",
    "    'they founded Virginia the first American colony in 1607.'\n",
    "]"
   ]
  },
  {
   "cell_type": "code",
   "execution_count": 35,
   "metadata": {},
   "outputs": [
    {
     "name": "stdout",
     "output_type": "stream",
     "text": [
      "[Timer] Bert Function took 1.1704183720000287\n",
      "['came', 'founded', 'early', '1607', '1600s']\n",
      "[Timer] Rake Function took 0.0008272499999861793\n",
      "[(25.0, 'early 1600s english settlers came'), (9.0, 'first american colony'), (4.0, 'seeking independence'), (4.0, 'founded virginia')]\n",
      "[Timer] TextRank Function took 0.003032516000018859\n",
      "settlers\n",
      "seeking\n"
     ]
    },
    {
     "data": {
      "image/png": "[encoded data removed]",
      "text/plain": [
       "<Figure size 432x288 with 1 Axes>"
      ]
     },
     "metadata": {},
     "output_type": "display_data"
    },
    {
     "name": "stdout",
     "output_type": "stream",
     "text": [
      "[Timer] TFIDF Function took 0.003439569000022402\n",
      "           TF-IDF\n",
      "1600s    0.409865\n",
      "back     0.409865\n",
      "early    0.409865\n",
      "english  0.409865\n",
      "in       0.330677\n"
     ]
    }
   ],
   "source": [
    "extract_keywords_with_bert(fixed_text, (1, 1), use_stop_words=True)\n",
    "extract_keywords_with_rake(fixed_text)\n",
    "extract_keywords_with_text_rank(fixed_text)\n",
    "extract_keyword_with_tfidf(fixed_text)"
   ]
  },
  {
   "cell_type": "code",
   "execution_count": null,
   "metadata": {},
   "outputs": [],
   "source": []
  },
  {
   "cell_type": "code",
   "execution_count": null,
   "metadata": {},
   "outputs": [],
   "source": []
  },
  {
   "cell_type": "code",
   "execution_count": null,
   "metadata": {},
   "outputs": [],
   "source": []
  },
  {
   "cell_type": "code",
   "execution_count": null,
   "metadata": {},
   "outputs": [],
   "source": []
  },
  {
   "cell_type": "code",
   "execution_count": 261,
   "metadata": {},
   "outputs": [],
   "source": [
    "video_id = \"VPdE5aOH52g\"\n",
    "timestamp = 180\n",
    "duration = 356\n",
    "text = get_caption_segment(video_id, timestamp, duration, delta = 10)"
   ]
  },
  {
   "cell_type": "code",
   "execution_count": 262,
   "metadata": {},
   "outputs": [
    {
     "data": {
      "text/plain": [
       "['see a four of the tens place I know if',\n",
       " \"it's 4 or lower we have to round down\",\n",
       " 'the prayer in the hundreds place is',\n",
       " 'underlined so we have to round the 4 in',\n",
       " 'the hundreds place to 400 when rounding',\n",
       " 'to the hundreds place the number in the',\n",
       " 'tens in ones place becomes zeros',\n",
       " 'now I know about 400 pieces of fruit for']"
      ]
     },
     "execution_count": 262,
     "metadata": {},
     "output_type": "execute_result"
    }
   ],
   "source": [
    "text"
   ]
  },
  {
   "cell_type": "code",
   "execution_count": 263,
   "metadata": {},
   "outputs": [
    {
     "name": "stdout",
     "output_type": "stream",
     "text": [
      "[Timer] Bert Function took 2.029727892993833\n",
      "['400 when', 'to 400', 'about 400', 'place to 400', 'to 400 when']\n"
     ]
    }
   ],
   "source": [
    "extract_keywords_with_bert([\" \".join(text)], (1, 3), use_stop_words=False)"
   ]
  },
  {
   "cell_type": "code",
   "execution_count": 264,
   "metadata": {},
   "outputs": [
    {
     "name": "stdout",
     "output_type": "stream",
     "text": [
      "[(14.666666666666666, 'ones place becomes zeros'), (4.666666666666666, 'hundreds place'), (4.166666666666666, 'tens place'), (3.5, '400 pieces')]\n",
      "[Timer] Rake Function took 0.001994054007809609\n"
     ]
    }
   ],
   "source": [
    "extract_keywords_with_rake(text)"
   ]
  },
  {
   "cell_type": "code",
   "execution_count": null,
   "metadata": {},
   "outputs": [],
   "source": []
  },
  {
   "cell_type": "code",
   "execution_count": null,
   "metadata": {},
   "outputs": [],
   "source": []
  },
  {
   "cell_type": "markdown",
   "metadata": {},
   "source": [
    "## Testing Dataset"
   ]
  },
  {
   "cell_type": "code",
   "execution_count": 144,
   "metadata": {},
   "outputs": [
    {
     "data": {
      "text/html": [
       "<div>\n",
       "<style scoped>\n",
       "    .dataframe tbody tr th:only-of-type {\n",
       "        vertical-align: middle;\n",
       "    }\n",
       "\n",
       "    .dataframe tbody tr th {\n",
       "        vertical-align: top;\n",
       "    }\n",
       "\n",
       "    .dataframe thead th {\n",
       "        text-align: right;\n",
       "    }\n",
       "</style>\n",
       "<table border=\"1\" class=\"dataframe\">\n",
       "  <thead>\n",
       "    <tr style=\"text-align: right;\">\n",
       "      <th></th>\n",
       "      <th>Unnamed: 0</th>\n",
       "      <th>searchTerms</th>\n",
       "      <th>snippet</th>\n",
       "    </tr>\n",
       "  </thead>\n",
       "  <tbody>\n",
       "    <tr>\n",
       "      <th>0</th>\n",
       "      <td>0</td>\n",
       "      <td>flights to hong kong</td>\n",
       "      <td>Book Cheap Flights to Hong Kong: Search and co...</td>\n",
       "    </tr>\n",
       "    <tr>\n",
       "      <th>1</th>\n",
       "      <td>1</td>\n",
       "      <td>flights to hong kong</td>\n",
       "      <td>Find flights to Hong Kong on Hong Kong Airline...</td>\n",
       "    </tr>\n",
       "    <tr>\n",
       "      <th>2</th>\n",
       "      <td>2</td>\n",
       "      <td>flights to hong kong</td>\n",
       "      <td>Find &amp; book great deals on Hong Kong (HKG) Fli...</td>\n",
       "    </tr>\n",
       "    <tr>\n",
       "      <th>3</th>\n",
       "      <td>3</td>\n",
       "      <td>flights to hong kong</td>\n",
       "      <td>Flights to Hong Kong SAR from airlines such as...</td>\n",
       "    </tr>\n",
       "    <tr>\n",
       "      <th>4</th>\n",
       "      <td>4</td>\n",
       "      <td>flights to hong kong</td>\n",
       "      <td>Aug 15, 2019 ... Flights are resuming after pr...</td>\n",
       "    </tr>\n",
       "  </tbody>\n",
       "</table>\n",
       "</div>"
      ],
      "text/plain": [
       "   Unnamed: 0           searchTerms  \\\n",
       "0           0  flights to hong kong   \n",
       "1           1  flights to hong kong   \n",
       "2           2  flights to hong kong   \n",
       "3           3  flights to hong kong   \n",
       "4           4  flights to hong kong   \n",
       "\n",
       "                                             snippet  \n",
       "0  Book Cheap Flights to Hong Kong: Search and co...  \n",
       "1  Find flights to Hong Kong on Hong Kong Airline...  \n",
       "2  Find & book great deals on Hong Kong (HKG) Fli...  \n",
       "3  Flights to Hong Kong SAR from airlines such as...  \n",
       "4  Aug 15, 2019 ... Flights are resuming after pr...  "
      ]
     },
     "execution_count": 144,
     "metadata": {},
     "output_type": "execute_result"
    }
   ],
   "source": [
    "df = pd.read_csv('filtered_data.csv')\n",
    "df.head()"
   ]
  },
  {
   "cell_type": "code",
   "execution_count": 145,
   "metadata": {},
   "outputs": [],
   "source": [
    "def convert(raw_string):\n",
    "    raw_string = raw_string.replace('\\xa0...', '')\n",
    "    raw_string = raw_string.replace('xa0...', '')\n",
    "    raw_string = raw_string.replace(\"?\", \".\")\n",
    "    raw_string = raw_string.replace('\\n', '')\n",
    "    sentences = raw_string.split('. ')\n",
    "    \n",
    "    return list(filter(lambda e: len(e) > 0, sentences))"
   ]
  },
  {
   "cell_type": "code",
   "execution_count": 146,
   "metadata": {},
   "outputs": [
    {
     "name": "stdout",
     "output_type": "stream",
     "text": [
      "448 vs 448\n"
     ]
    }
   ],
   "source": [
    "raw_snippet_list = df['snippet'].to_list()\n",
    "filtered_snippet_list = list(map(convert, raw_snippet_list))\n",
    "\n",
    "keyword = df['searchTerms'].tolist()\n",
    "print(\"{} vs {}\".format(len(filtered_snippet_list), len(keyword)))"
   ]
  },
  {
   "cell_type": "markdown",
   "metadata": {},
   "source": [
    "## Benchmark Ultility"
   ]
  },
  {
   "cell_type": "code",
   "execution_count": 271,
   "metadata": {},
   "outputs": [],
   "source": [
    "def evaluate_algorithm(name, func, arguments, delta=10, print_x=False):\n",
    "    wrongs = []\n",
    "    wrongs_x = []\n",
    "    rights = []\n",
    "    rights_x = []\n",
    "\n",
    "    with Timer(name):\n",
    "        counter = 0\n",
    "        process_count = 0\n",
    "        total_count = len(keyword)\n",
    "        \n",
    "        for x, y in zip(filtered_snippet_list, keyword):\n",
    "            if process_count % 50 == 0:\n",
    "                print('Finished {} out of {}'.format(process_count, total_count))\n",
    "    \n",
    "            result = func(x, **arguments)\n",
    "            process_count += 1\n",
    "\n",
    "            for res in result:\n",
    "                if distance(y, res) < delta:\n",
    "                    counter += 1\n",
    "                    if len(rights) < 10:\n",
    "                        rights.append(\"{} ------- {}\".format(result, y))\n",
    "                        rights_x.append(x)\n",
    "                    break\n",
    "                else:\n",
    "                    if len(wrongs) < 10:\n",
    "                        wrongs.append(\"{} ------- {}\".format(result, y))\n",
    "                        wrongs_x.append(x)\n",
    "    print(\"\\n\\nResult\")\n",
    "    print(\"Accuracy {}\".format(counter / total_count))\n",
    "    print()\n",
    "    print(\"Wrong examples.\")\n",
    "    print(wrongs)\n",
    "    print()\n",
    "    print(\"Right examples.\")\n",
    "    print(rights)\n",
    "    print()\n",
    "    \n",
    "    if print_x:\n",
    "        print(wrongs_x)\n",
    "        print()\n",
    "        print(rights_x)"
   ]
  },
  {
   "cell_type": "markdown",
   "metadata": {},
   "source": [
    "## Run benchmarks and tune"
   ]
  },
  {
   "cell_type": "code",
   "execution_count": 301,
   "metadata": {},
   "outputs": [
    {
     "name": "stdout",
     "output_type": "stream",
     "text": [
      "Finished 0 out of 448\n",
      "Finished 50 out of 448\n",
      "Finished 100 out of 448\n",
      "Finished 150 out of 448\n",
      "Finished 200 out of 448\n",
      "Finished 250 out of 448\n",
      "Finished 300 out of 448\n",
      "Finished 350 out of 448\n",
      "Finished 400 out of 448\n",
      "[Timer] Rake Function took 0.1888364409969654\n",
      "\n",
      "\n",
      "Result\n",
      "Accuracy 0.05803571428571429\n",
      "\n",
      "Wrong examples.\n",
      "[\"['book cheap flights', 'best flights', 'best airline', 'hong kong'] ------- flights to hong kong\", \"['book cheap flights', 'best flights', 'best airline', 'hong kong'] ------- flights to hong kong\", \"['book cheap flights', 'best flights', 'best airline', 'hong kong'] ------- flights to hong kong\", \"['book cheap flights', 'best flights', 'best airline', 'hong kong'] ------- flights to hong kong\", \"['hong kong airlines', 'hong kong', 'san francisco', 'new york'] ------- flights to hong kong\", \"['hong kong airlines', 'hong kong', 'san francisco', 'new york'] ------- flights to hong kong\", \"['hong kong airlines', 'hong kong', 'san francisco', 'new york'] ------- flights to hong kong\", \"['hong kong airlines', 'hong kong', 'san francisco', 'new york'] ------- flights to hong kong\", \"['book great deals', 'winning service', 'hong kong', 'experience award'] ------- flights to hong kong\", \"['book great deals', 'winning service', 'hong kong', 'experience award'] ------- flights to hong kong\"]\n",
      "\n",
      "Right examples.\n",
      "[\"['2 days ago ... airport officials', 'cancelling services altogether', 'hong kong', 'flights taking'] ------- flights to hong kong\", \"['cheap labor day flights', 'etc .& travel agencies', 'major airlines delta', 'cheap paris'] ------- flights to paris\", \"['next flight today', 'flight ticket deals', 'cheap flights', 'search'] ------- flights to delhi\", \"['cheap delhi flights', 'travel agents', 'major airlines', 'flights'] ------- flights to delhi\", \"['cheapest flights', 'travel sites', 'search 1000', 'flights'] ------- flights to tokyo\", \"['cheap labor day flights', 'etc .& travel agencies', 'major airlines delta', 'cheap tokyo'] ------- flights to tokyo\", \"['mecca flights', 'flights deals', 'travel dates', 'holiday plans'] ------- flights to mecca\", \"['cheap mecca flights', 'jed ): search', 'mecca', 'flights'] ------- flights to mecca\", \"['major airlines delta', 'flight deals', 'find non', 'compare thousands'] ------- flights to miami\", \"['flights ... flights', 'new york city', 'best flight deals', '14 .$ 167'] ------- flights to miami\"]\n",
      "\n"
     ]
    }
   ],
   "source": [
    "evaluate_algorithm(\n",
    "    \"Rake\",\n",
    "    extract_keywords_with_rake,\n",
    "    {\n",
    "        \"print_time\": False,\n",
    "        \"period_split\": True\n",
    "    }\n",
    ")"
   ]
  },
  {
   "cell_type": "markdown",
   "metadata": {},
   "source": [
    "### Rake executed very fast with a low accuracy. Although Rake is able to capture the main theme on flights, it is only half way accurate since it does not capture the destination/action. This is the expected behavior of Rake considering that `to` is being considered as a stopword and removed. Thus, Rake is not expected to capture the underlying relationship. Next, we will tune this algorithm by overriding the `stopwords` constraint"
   ]
  },
  {
   "cell_type": "code",
   "execution_count": 302,
   "metadata": {},
   "outputs": [
    {
     "name": "stdout",
     "output_type": "stream",
     "text": [
      "Finished 0 out of 448\n",
      "Finished 50 out of 448\n",
      "Finished 100 out of 448\n",
      "Finished 150 out of 448\n",
      "Finished 200 out of 448\n",
      "Finished 250 out of 448\n",
      "Finished 300 out of 448\n",
      "Finished 350 out of 448\n",
      "Finished 400 out of 448\n",
      "[Timer] Rake Function took 0.1096584719925886\n",
      "\n",
      "\n",
      "Result\n",
      "Accuracy 0.5290178571428571\n",
      "\n",
      "Wrong examples.\n",
      "[\"['book cheap flights to hong kong', 'your trip to hong kong', 'tripadvisor to find', 'best flights'] ------- flights to hong kong\", \"['trip from san francisco from', 'from new york from', 'find flights to hong kong', 'hong kong airlines'] ------- flights to hong kong\", \"['trip from san francisco from', 'from new york from', 'find flights to hong kong', 'hong kong airlines'] ------- flights to hong kong\", \"['fly to hong kong with cathay pacific', 'hong kong', 'book great deals', 'winning service'] ------- flights to hong kong\", \"['fly to hong kong with cathay pacific', 'hong kong', 'book great deals', 'winning service'] ------- flights to hong kong\", \"['fly to hong kong with cathay pacific', 'hong kong', 'book great deals', 'winning service'] ------- flights to hong kong\", \"['fly to hong kong with cathay pacific', 'hong kong', 'book great deals', 'winning service'] ------- flights to hong kong\", \"['flights to hong kong sar from airlines such as american airlines', 'hotel to save up to 100', 'book your flight', 'your'] ------- flights to hong kong\", \"['flights to hong kong sar from airlines such as american airlines', 'hotel to save up to 100', 'book your flight', 'your'] ------- flights to hong kong\", \"['flights to hong kong sar from airlines such as american airlines', 'hotel to save up to 100', 'book your flight', 'your'] ------- flights to hong kong\"]\n",
      "\n",
      "Right examples.\n",
      "[\"['book cheap flights to hong kong', 'your trip to hong kong', 'tripadvisor to find', 'best flights'] ------- flights to hong kong\", \"['trip from san francisco from', 'from new york from', 'find flights to hong kong', 'hong kong airlines'] ------- flights to hong kong\", \"['find cheap flights to hong kong intl', 'flights to hong', 'we compare all major airlines', 's flight comparison tool'] ------- flights to hong kong\", \"['2 days ago ... airport officials are ready to reduce', 'will not rule out cancelling services altogether', 'number of flights taking off', 'landing in hong kong'] ------- flights to hong kong\", \"['book cheap flights to bangkok', 'your trip to bangkok', 'tripadvisor to find', 'best flights'] ------- flights to bangkok\", \"['trip from san francisco from', 'from new york from', 'from san', 'find flights to bangkok'] ------- flights to bangkok\", \"['flights to bangkok', 'cheap bangkok flights', 'airfares to bangkok', 'dmk ): search'] ------- flights to bangkok\", \"['cheapest tickets to bangkok', 'cheap flights to bangkok', 'search hundreds of airlines', '406 round trip'] ------- flights to bangkok\", \"['flight ticket deals at cheapflights', 'book your next flight', 'thailand from your destination', 'cheap flights to bangkok'] ------- flights to bangkok\", \"['cheapest flights to bangkok', 'flights to bangkok', 'travel sites with momondo', 'search 1000'] ------- flights to bangkok\"]\n",
      "\n",
      "[['Book Cheap Flights to Hong Kong: Search and compare airfares on TripAdvisor to find the best flights for your trip to Hong Kong', 'Choose the best airline for you'], ['Find flights to Hong Kong on Hong Kong Airlines, XiamenAir, Air China and more', 'Fly round-trip from San Francisco from $344, from New York from $434, from'], ['Find flights to Hong Kong on Hong Kong Airlines, XiamenAir, Air China and more', 'Fly round-trip from San Francisco from $344, from New York from $434, from'], ['Find & book great deals on Hong Kong (HKG) Flights', 'Fly to Hong Kong with Cathay Pacific and experience award-winning service.'], ['Find & book great deals on Hong Kong (HKG) Flights', 'Fly to Hong Kong with Cathay Pacific and experience award-winning service.'], ['Find & book great deals on Hong Kong (HKG) Flights', 'Fly to Hong Kong with Cathay Pacific and experience award-winning service.'], ['Find & book great deals on Hong Kong (HKG) Flights', 'Fly to Hong Kong with Cathay Pacific and experience award-winning service.'], ['Flights to Hong Kong SAR from airlines such as American Airlines, Delta, United, JetBlue, Frontier, and more', 'Book your flight + hotel to save up to 100% on your'], ['Flights to Hong Kong SAR from airlines such as American Airlines, Delta, United, JetBlue, Frontier, and more', 'Book your flight + hotel to save up to 100% on your'], ['Flights to Hong Kong SAR from airlines such as American Airlines, Delta, United, JetBlue, Frontier, and more', 'Book your flight + hotel to save up to 100% on your']]\n",
      "\n",
      "[['Book Cheap Flights to Hong Kong: Search and compare airfares on TripAdvisor to find the best flights for your trip to Hong Kong', 'Choose the best airline for you'], ['Find flights to Hong Kong on Hong Kong Airlines, XiamenAir, Air China and more', 'Fly round-trip from San Francisco from $344, from New York from $434, from'], [\"Find cheap flights to Hong Kong Intl (HKG) in 2019 using Skyscanner's flight comparison tool\", 'We compare all major airlines and travel agents for flights to Hong'], ['2 days ago ..', 'Airport officials are ready to reduce the number of flights taking off and landing in Hong Kong and will not rule out cancelling services altogether'], ['Book Cheap Flights to Bangkok: Search and compare airfares on TripAdvisor to find the best flights for your trip to Bangkok', 'Choose the best airline for you by'], ['Find flights to Bangkok on China Southern, Major Airline, Air China and more', 'Fly round-trip from San Francisco from $418, from New York from $438, from San'], ['Flights to Bangkok (BKK, DMK): Search on Orbitz for cheap Bangkok flights, airlines, and airfares to Bangkok.'], ['Cheap Flights to Bangkok, Thailand (BKK) starting at $406 round trip', 'Search hundreds of airlines for the cheapest tickets to Bangkok, Thailand!'], ['Looking for cheap flights to Bangkok, Thailand from your destination', 'Search for airfare and flight ticket deals at cheapflights.com and book your next flight'], ['Looking for flights to Bangkok', 'Search 1000+ airlines and travel sites with momondo and get the cheapest flights to Bangkok.']]\n"
     ]
    }
   ],
   "source": [
    "# Using a tight delta causes accuracy drop\n",
    "evaluate_algorithm(\n",
    "    \"Rake\",\n",
    "    extract_keywords_with_rake,\n",
    "    {\n",
    "        \"print_time\": False,\n",
    "        \"stopwords\": [\"and\", \"on\", \"for\", \"the\"],\n",
    "        \"period_split\": True\n",
    "#         \"ranking_metric\": Metric.WORD_DEGREE\n",
    "    },\n",
    "    print_x=True\n",
    ")"
   ]
  },
  {
   "cell_type": "markdown",
   "metadata": {},
   "source": [
    "#### Bad examples are not neccessarily bad, let's descrease the contrainst to count those"
   ]
  },
  {
   "cell_type": "code",
   "execution_count": 304,
   "metadata": {},
   "outputs": [
    {
     "name": "stdout",
     "output_type": "stream",
     "text": [
      "Finished 0 out of 448\n",
      "Finished 50 out of 448\n",
      "Finished 100 out of 448\n",
      "Finished 150 out of 448\n",
      "Finished 200 out of 448\n",
      "Finished 250 out of 448\n",
      "Finished 300 out of 448\n",
      "Finished 350 out of 448\n",
      "Finished 400 out of 448\n",
      "[Timer] Rake Function took 0.09545866500411648\n",
      "\n",
      "\n",
      "Result\n",
      "Accuracy 0.7522321428571429\n",
      "\n",
      "Wrong examples.\n",
      "[\"['trip from san francisco from', 'from new york from', 'find flights to hong kong', 'hong kong airlines'] ------- flights to hong kong\", \"['trip from san francisco from', 'from new york from', 'find flights to hong kong', 'hong kong airlines'] ------- flights to hong kong\", \"['fly to hong kong with cathay pacific', 'hong kong', 'book great deals', 'winning service'] ------- flights to hong kong\", \"['flights to hong kong sar from airlines such as american airlines', 'hotel to save up to 100', 'book your flight', 'your'] ------- flights to hong kong\", \"['flights to hong kong sar from airlines such as american airlines', 'hotel to save up to 100', 'book your flight', 'your'] ------- flights to hong kong\", \"['flights to hong kong sar from airlines such as american airlines', 'hotel to save up to 100', 'book your flight', 'your'] ------- flights to hong kong\", \"['flights to hong kong sar from airlines such as american airlines', 'hotel to save up to 100', 'book your flight', 'your'] ------- flights to hong kong\", \"['2019 ... flights are resuming after protesters clashed with police last night at', 'hong kong airport', 'follow here', 'aug 15'] ------- flights to hong kong\", \"['2019 ... flights are resuming after protesters clashed with police last night at', 'hong kong airport', 'follow here', 'aug 15'] ------- flights to hong kong\", \"['2019 ... flights are resuming after protesters clashed with police last night at', 'hong kong airport', 'follow here', 'aug 15'] ------- flights to hong kong\"]\n",
      "\n",
      "Right examples.\n",
      "[\"['book cheap flights to hong kong', 'your trip to hong kong', 'tripadvisor to find', 'best flights'] ------- flights to hong kong\", \"['trip from san francisco from', 'from new york from', 'find flights to hong kong', 'hong kong airlines'] ------- flights to hong kong\", \"['fly to hong kong with cathay pacific', 'hong kong', 'book great deals', 'winning service'] ------- flights to hong kong\", \"['find cheap flights to hong kong intl', 'flights to hong', 'we compare all major airlines', 's flight comparison tool'] ------- flights to hong kong\", \"['s airport after two days of disruptions that descended into clashes with police', '— flights resumed wednesday at hong kong', '2019 ... hong kong', 'aug 14'] ------- flights to hong kong\", \"['2 days ago ... airport officials are ready to reduce', 'will not rule out cancelling services altogether', 'number of flights taking off', 'landing in hong kong'] ------- flights to hong kong\", \"['book cheap flights to bangkok', 'your trip to bangkok', 'tripadvisor to find', 'best flights'] ------- flights to bangkok\", \"['trip from san francisco from', 'from new york from', 'from san', 'find flights to bangkok'] ------- flights to bangkok\", \"['flights to bangkok', 'cheap bangkok flights', 'airfares to bangkok', 'dmk ): search'] ------- flights to bangkok\", \"['cheapest tickets to bangkok', 'cheap flights to bangkok', 'search hundreds of airlines', '406 round trip'] ------- flights to bangkok\"]\n",
      "\n",
      "[['Find flights to Hong Kong on Hong Kong Airlines, XiamenAir, Air China and more', 'Fly round-trip from San Francisco from $344, from New York from $434, from'], ['Find flights to Hong Kong on Hong Kong Airlines, XiamenAir, Air China and more', 'Fly round-trip from San Francisco from $344, from New York from $434, from'], ['Find & book great deals on Hong Kong (HKG) Flights', 'Fly to Hong Kong with Cathay Pacific and experience award-winning service.'], ['Flights to Hong Kong SAR from airlines such as American Airlines, Delta, United, JetBlue, Frontier, and more', 'Book your flight + hotel to save up to 100% on your'], ['Flights to Hong Kong SAR from airlines such as American Airlines, Delta, United, JetBlue, Frontier, and more', 'Book your flight + hotel to save up to 100% on your'], ['Flights to Hong Kong SAR from airlines such as American Airlines, Delta, United, JetBlue, Frontier, and more', 'Book your flight + hotel to save up to 100% on your'], ['Flights to Hong Kong SAR from airlines such as American Airlines, Delta, United, JetBlue, Frontier, and more', 'Book your flight + hotel to save up to 100% on your'], ['Aug 15, 2019 ..', 'Flights are resuming after protesters clashed with police last night at the Hong Kong airport', 'Follow here for the latest.'], ['Aug 15, 2019 ..', 'Flights are resuming after protesters clashed with police last night at the Hong Kong airport', 'Follow here for the latest.'], ['Aug 15, 2019 ..', 'Flights are resuming after protesters clashed with police last night at the Hong Kong airport', 'Follow here for the latest.']]\n",
      "\n",
      "[['Book Cheap Flights to Hong Kong: Search and compare airfares on TripAdvisor to find the best flights for your trip to Hong Kong', 'Choose the best airline for you'], ['Find flights to Hong Kong on Hong Kong Airlines, XiamenAir, Air China and more', 'Fly round-trip from San Francisco from $344, from New York from $434, from'], ['Find & book great deals on Hong Kong (HKG) Flights', 'Fly to Hong Kong with Cathay Pacific and experience award-winning service.'], [\"Find cheap flights to Hong Kong Intl (HKG) in 2019 using Skyscanner's flight comparison tool\", 'We compare all major airlines and travel agents for flights to Hong'], ['Aug 14, 2019 ..', \"HONG KONG (AP) — Flights resumed Wednesday at Hong Kong's airport after two days of disruptions that descended into clashes with police,\"], ['2 days ago ..', 'Airport officials are ready to reduce the number of flights taking off and landing in Hong Kong and will not rule out cancelling services altogether'], ['Book Cheap Flights to Bangkok: Search and compare airfares on TripAdvisor to find the best flights for your trip to Bangkok', 'Choose the best airline for you by'], ['Find flights to Bangkok on China Southern, Major Airline, Air China and more', 'Fly round-trip from San Francisco from $418, from New York from $438, from San'], ['Flights to Bangkok (BKK, DMK): Search on Orbitz for cheap Bangkok flights, airlines, and airfares to Bangkok.'], ['Cheap Flights to Bangkok, Thailand (BKK) starting at $406 round trip', 'Search hundreds of airlines for the cheapest tickets to Bangkok, Thailand!']]\n"
     ]
    }
   ],
   "source": [
    "evaluate_algorithm(\n",
    "    \"Rake\",\n",
    "    extract_keywords_with_rake,\n",
    "    {\n",
    "        \"print_time\": False,\n",
    "        \"stopwords\": [\"and\", \"on\", \"for\", \"the\"],\n",
    "        \"period_split\": True\n",
    "#         \"ranking_metric\": Metric.WORD_DEGREE\n",
    "    },\n",
    "    delta=15,\n",
    "    print_x=True\n",
    ")"
   ]
  },
  {
   "cell_type": "markdown",
   "metadata": {},
   "source": [
    "#### By supplying a custom stopword list, we can see a huge jump in accuracy. In particular, we are seeing that the relationship is now captured in the algorithm even though rake is purely based on stats instead of underlying context\\\n",
    "\n",
    "https://medium.com/datadriveninvestor/rake-rapid-automatic-keyword-extraction-algorithm-f4ec17b2886c Rake explained"
   ]
  },
  {
   "cell_type": "markdown",
   "metadata": {},
   "source": [
    "#### Next TFIDF"
   ]
  },
  {
   "cell_type": "code",
   "execution_count": 262,
   "metadata": {},
   "outputs": [
    {
     "name": "stdout",
     "output_type": "stream",
     "text": [
      "Finished 0 out of 448\n",
      "Finished 50 out of 448\n",
      "Finished 100 out of 448\n",
      "Finished 150 out of 448\n",
      "Finished 200 out of 448\n",
      "Finished 250 out of 448\n",
      "Finished 300 out of 448\n",
      "Finished 350 out of 448\n",
      "Finished 400 out of 448\n",
      "[Timer] TFIDF Function took 1.0967868769948836\n",
      "\n",
      "\n",
      "Result\n",
      "Accuracy 0.5290178571428571\n",
      "\n",
      "Wrong examples.\n",
      "[\"['flights', 'hong', 'hong kong', 'kong', 'kong search compare'] ------- flights to hong kong\", \"['flights', 'hong', 'hong kong', 'kong', 'kong search compare'] ------- flights to hong kong\", \"['flights', 'hong', 'hong kong', 'kong', 'kong search compare'] ------- flights to hong kong\", \"['flights', 'hong', 'hong kong', 'kong', 'kong search compare'] ------- flights to hong kong\", \"['flights', 'hong', 'hong kong', 'kong', 'kong search compare'] ------- flights to hong kong\", \"['kong', 'hong kong', 'hong', 'hong kong hong kong', 'hong kong airlines xiamenair'] ------- flights to hong kong\", \"['kong', 'hong kong', 'hong', 'hong kong hong kong', 'hong kong airlines xiamenair'] ------- flights to hong kong\", \"['kong', 'hong kong', 'hong', 'hong kong hong kong', 'hong kong airlines xiamenair'] ------- flights to hong kong\", \"['great', 'deals hong kong', 'hkg flights', 'hkg', 'great deals hong kong'] ------- flights to hong kong\", \"['airlines', 'flights', 'flights hong kong', 'flights hong kong sar', 'frontier'] ------- flights to hong kong\"]\n",
      "\n",
      "Right examples.\n",
      "[\"['kong', 'hong kong', 'hong', 'hong kong hong kong', 'hong kong airlines xiamenair'] ------- flights to hong kong\", \"['great', 'deals hong kong', 'hkg flights', 'hkg', 'great deals hong kong'] ------- flights to hong kong\", \"['airlines', 'flights', 'flights hong kong', 'flights hong kong sar', 'frontier'] ------- flights to hong kong\", \"['2019', 'flights hong kong', 'hkg', 'hkg 2019', '2019 using'] ------- flights to hong kong\", \"['looking cheap flights hong', 'looking cheap flights', 'flights hong', 'flights hong kong', 'flights hong kong destination'] ------- flights to hong kong\", \"['bangkok', 'flights', 'airfares', 'flights trip bangkok', 'compare airfares'] ------- flights to bangkok\", \"['bangkok', 'flights', 'airfares', 'flights bangkok bkk', 'dmk search orbitz'] ------- flights to bangkok\", \"['labor day flights', 'cheap labor day flights', 'day flights bangkok', 'day flights', 'day'] ------- flights to bangkok\", \"['406', 'cheap flights bangkok', 'thailand bkk starting 406', 'thailand bkk starting', 'thailand bkk'] ------- flights to bangkok\", \"['thailand', 'cheap flights bangkok', 'flights bangkok', 'destination', 'flights bangkok thailand'] ------- flights to bangkok\"]\n"
     ]
    }
   ],
   "source": [
    "evaluate_algorithm(\n",
    "    \"TFIDF\",\n",
    "    extract_keyword_with_tfidf,\n",
    "    {\n",
    "        \"print_time\": False,\n",
    "        \"use_stopwords\": True,\n",
    "        \"ngram_range\": (1, 4)\n",
    "    }\n",
    ")"
   ]
  },
  {
   "cell_type": "code",
   "execution_count": 298,
   "metadata": {},
   "outputs": [
    {
     "name": "stdout",
     "output_type": "stream",
     "text": [
      "Finished 0 out of 448\n",
      "Finished 50 out of 448\n",
      "Finished 100 out of 448\n",
      "Finished 150 out of 448\n",
      "Finished 200 out of 448\n",
      "Finished 250 out of 448\n",
      "Finished 300 out of 448\n",
      "Finished 350 out of 448\n",
      "Finished 400 out of 448\n",
      "[Timer] TFIDF Function took 1.0084415260062087\n",
      "\n",
      "\n",
      "Result\n",
      "Accuracy 0.5982142857142857\n",
      "\n",
      "Wrong examples.\n",
      "[\"['to', 'to hong kong', 'flights', 'hong', 'hong kong'] ------- flights to hong kong\", \"['hong', 'hong kong', 'kong', 'to hong kong on', 'flights to hong'] ------- flights to hong kong\", \"['hong', 'hong kong', 'kong', 'to hong kong on', 'flights to hong'] ------- flights to hong kong\", \"['hong', 'hong kong', 'kong', 'to hong kong on', 'flights to hong'] ------- flights to hong kong\", \"['hong', 'hong kong', 'kong', 'to hong kong on', 'flights to hong'] ------- flights to hong kong\", \"['great deals on', 'deals on hong kong', 'find book great', 'find book great deals', 'flights'] ------- flights to hong kong\", \"['airlines', 'from airlines', 'hong kong sar', 'flights to', 'flights to hong'] ------- flights to hong kong\", \"['airlines', 'from airlines', 'hong kong sar', 'flights to', 'flights to hong'] ------- flights to hong kong\", \"['airlines', 'from airlines', 'hong kong sar', 'flights to', 'flights to hong'] ------- flights to hong kong\", \"['airlines', 'from airlines', 'hong kong sar', 'flights to', 'flights to hong'] ------- flights to hong kong\"]\n",
      "\n",
      "Right examples.\n",
      "[\"['to', 'to hong kong', 'flights', 'hong', 'hong kong'] ------- flights to hong kong\", \"['hong', 'hong kong', 'kong', 'to hong kong on', 'flights to hong'] ------- flights to hong kong\", \"['great deals on', 'deals on hong kong', 'find book great', 'find book great deals', 'flights'] ------- flights to hong kong\", \"['airlines', 'from airlines', 'hong kong sar', 'flights to', 'flights to hong'] ------- flights to hong kong\", \"['flights to hong kong', 'for cheap', 'looking for cheap', 'looking for', 'looking'] ------- flights to hong kong\", \"['to', 'bangkok', 'flights', 'to bangkok', 'airfares'] ------- flights to bangkok\", \"['bangkok', 'flights', 'to bangkok', 'to', 'on orbitz'] ------- flights to bangkok\", \"['labor day flights', 'cheap labor day flights', 'flights to', 'flights', 'for cheap labor'] ------- flights to bangkok\", \"['406', 'round trip', 'cheap flights to bangkok', 'flights', 'flights to'] ------- flights to bangkok\", \"['from', 'on', 'the cheapest flights', 'the cheapest', 'london to bangkok'] ------- flights to bangkok\"]\n",
      "\n",
      "[['Book Cheap Flights to Hong Kong: Search and compare airfares on TripAdvisor to find the best flights for your trip to Hong Kong', 'Choose the best airline for you'], ['Find flights to Hong Kong on Hong Kong Airlines, XiamenAir, Air China and more', 'Fly round-trip from San Francisco from $344, from New York from $434, from'], ['Find flights to Hong Kong on Hong Kong Airlines, XiamenAir, Air China and more', 'Fly round-trip from San Francisco from $344, from New York from $434, from'], ['Find flights to Hong Kong on Hong Kong Airlines, XiamenAir, Air China and more', 'Fly round-trip from San Francisco from $344, from New York from $434, from'], ['Find flights to Hong Kong on Hong Kong Airlines, XiamenAir, Air China and more', 'Fly round-trip from San Francisco from $344, from New York from $434, from'], ['Find & book great deals on Hong Kong (HKG) Flights', 'Fly to Hong Kong with Cathay Pacific and experience award-winning service.'], ['Flights to Hong Kong SAR from airlines such as American Airlines, Delta, United, JetBlue, Frontier, and more', 'Book your flight + hotel to save up to 100% on your'], ['Flights to Hong Kong SAR from airlines such as American Airlines, Delta, United, JetBlue, Frontier, and more', 'Book your flight + hotel to save up to 100% on your'], ['Flights to Hong Kong SAR from airlines such as American Airlines, Delta, United, JetBlue, Frontier, and more', 'Book your flight + hotel to save up to 100% on your'], ['Flights to Hong Kong SAR from airlines such as American Airlines, Delta, United, JetBlue, Frontier, and more', 'Book your flight + hotel to save up to 100% on your']]\n",
      "\n",
      "[['Book Cheap Flights to Hong Kong: Search and compare airfares on TripAdvisor to find the best flights for your trip to Hong Kong', 'Choose the best airline for you'], ['Find flights to Hong Kong on Hong Kong Airlines, XiamenAir, Air China and more', 'Fly round-trip from San Francisco from $344, from New York from $434, from'], ['Find & book great deals on Hong Kong (HKG) Flights', 'Fly to Hong Kong with Cathay Pacific and experience award-winning service.'], ['Flights to Hong Kong SAR from airlines such as American Airlines, Delta, United, JetBlue, Frontier, and more', 'Book your flight + hotel to save up to 100% on your'], ['Looking for cheap flights to Hong Kong from your destination', 'Search for airfare and flight ticket deals at cheapflights.com and book your next flight today.'], ['Book Cheap Flights to Bangkok: Search and compare airfares on TripAdvisor to find the best flights for your trip to Bangkok', 'Choose the best airline for you by'], ['Flights to Bangkok (BKK, DMK): Search on Orbitz for cheap Bangkok flights, airlines, and airfares to Bangkok.'], ['Looking for cheap Labor Day flights to Bangkok', 'Compare prices from hundreds of major airlines Delta, United, American, etc', '& travel agencies for cheap'], ['Cheap Flights to Bangkok, Thailand (BKK) starting at $406 round trip', 'Search hundreds of airlines for the cheapest tickets to Bangkok, Thailand!'], ['Find the cheapest flights from London to Bangkok on Skyscanner', 'Compare LOND to BKKT flights, browse flight prices across whole month to find the best deal.']]\n"
     ]
    }
   ],
   "source": [
    "evaluate_algorithm(\n",
    "    \"TFIDF\",\n",
    "    extract_keyword_with_tfidf,\n",
    "    {\n",
    "        \"print_time\": False,\n",
    "        \"ngram_range\": (1, 4)\n",
    "    },\n",
    "    print_x=True\n",
    ")"
   ]
  },
  {
   "cell_type": "markdown",
   "metadata": {},
   "source": [
    "#### TDIDF performed decently and benefits from not using stopwords, but suffers from low quality keyword answers\n",
    "\n",
    "see pros and cons here https://nzmattgrant.wordpress.com/2018/01/31/a-comparison-of-rake-and-tf-idf-algorithms-for-finding-keywords-in-text/"
   ]
  },
  {
   "cell_type": "markdown",
   "metadata": {},
   "source": [
    "### Onward, TextRank"
   ]
  },
  {
   "cell_type": "code",
   "execution_count": 273,
   "metadata": {},
   "outputs": [
    {
     "name": "stdout",
     "output_type": "stream",
     "text": [
      "Finished 0 out of 448\n",
      "Finished 50 out of 448\n",
      "Finished 100 out of 448\n",
      "Finished 150 out of 448\n",
      "Finished 200 out of 448\n",
      "Finished 250 out of 448\n",
      "Finished 300 out of 448\n",
      "Finished 350 out of 448\n",
      "Finished 400 out of 448\n",
      "[Timer] Text Rank Function took 0.9840842479970888\n",
      "\n",
      "\n",
      "Result\n",
      "Accuracy 0.09151785714285714\n",
      "\n",
      "Wrong examples.\n",
      "[\"['kong', 'cheap'] ------- flights to hong kong\", \"['kong', 'cheap'] ------- flights to hong kong\", \"['round', 'air'] ------- flights to hong kong\", \"['round', 'air'] ------- flights to hong kong\", \"['great'] ------- flights to hong kong\", \"['kong', 'airlines'] ------- flights to hong kong\", \"['kong', 'airlines'] ------- flights to hong kong\", \"['kong'] ------- flights to hong kong\", \"['kong', 'comparison'] ------- flights to hong kong\", \"['kong', 'comparison'] ------- flights to hong kong\"]\n",
      "\n",
      "Right examples.\n",
      "[\"['flights', 'flight ticket'] ------- flights to bangkok\", \"['flights', 'flight ticket'] ------- flights to london\", \"['flights', 'flight'] ------- flights to macau\", \"['price', 'prices', 'flights', 'flight'] ------- flights to macau\", \"['flight', 'flights', 'air'] ------- flights to macau\", \"['macau', 'flights'] ------- flights to macau\", \"['flights', 'compare'] ------- flights to macau\", \"['singapore', 'flights'] ------- flights to macau\", \"['flights', 'flight ticket'] ------- flights to dubai\", \"['flight comparison', 'flights'] ------- flights to dubai\"]\n",
      "\n",
      "[['Book Cheap Flights to Hong Kong: Search and compare airfares on TripAdvisor to find the best flights for your trip to Hong Kong', 'Choose the best airline for you'], ['Book Cheap Flights to Hong Kong: Search and compare airfares on TripAdvisor to find the best flights for your trip to Hong Kong', 'Choose the best airline for you'], ['Find flights to Hong Kong on Hong Kong Airlines, XiamenAir, Air China and more', 'Fly round-trip from San Francisco from $344, from New York from $434, from'], ['Find flights to Hong Kong on Hong Kong Airlines, XiamenAir, Air China and more', 'Fly round-trip from San Francisco from $344, from New York from $434, from'], ['Find & book great deals on Hong Kong (HKG) Flights', 'Fly to Hong Kong with Cathay Pacific and experience award-winning service.'], ['Flights to Hong Kong SAR from airlines such as American Airlines, Delta, United, JetBlue, Frontier, and more', 'Book your flight + hotel to save up to 100% on your'], ['Flights to Hong Kong SAR from airlines such as American Airlines, Delta, United, JetBlue, Frontier, and more', 'Book your flight + hotel to save up to 100% on your'], ['Aug 15, 2019 ..', 'Flights are resuming after protesters clashed with police last night at the Hong Kong airport', 'Follow here for the latest.'], [\"Find cheap flights to Hong Kong Intl (HKG) in 2019 using Skyscanner's flight comparison tool\", 'We compare all major airlines and travel agents for flights to Hong'], [\"Find cheap flights to Hong Kong Intl (HKG) in 2019 using Skyscanner's flight comparison tool\", 'We compare all major airlines and travel agents for flights to Hong']]\n",
      "\n",
      "[['Looking for cheap flights to Bangkok, Thailand from your destination', 'Search for airfare and flight ticket deals at cheapflights.com and book your next flight'], ['Looking for cheap flights to London, England from your destination', 'Search for airfare and flight ticket deals at cheapflights.com and book your next flight today.'], ['Looking for cheap flights to Macau from your destination', 'Search for airfare and flight ticket deals at cheapflights.com and book your next flight today.'], ['Flexible on when you fly to Macau', 'Use the month view tool to find the cheapest flights to Macau or set a price alert to book when Macau flight ticket prices drop!'], ['Looking for cheap air tickets to Macau SAR for 2019', '✅ Compare prices on Expedia to get the best flight deals and promotions for Macau SAR flights before you'], ['Flights to Macau', 'We compare all major airlines and travel agents for cheap Macau flights', 'Search and Save now at Skyscanner.net.'], ['Find cheap flights from Macau with Skyscanner', 'Compare low cost, budget & scheduled airline flights & air travel deals – book direct, no fees.'], ['Flights Singapore Changi to Macau', 'Search and compare all major airlines and travel agents for cheap flights Singapore Changi to Macau on'], ['Looking for cheap flights to Dubai, United Arab Emirates from your destination', 'Search for airfare and flight ticket deals at cheapflights.com and book your next'], [\"Find cheap flights to Dubai (DXB) in 2019 using Skyscanner's flight comparison tool\", 'We compare all major airlines and travel agents for flights to Dubai with no']]\n"
     ]
    }
   ],
   "source": [
    "evaluate_algorithm(\n",
    "    \"Text Rank\",\n",
    "    extract_keywords_with_text_rank,\n",
    "    {\n",
    "        \"print_time\": False\n",
    "    },\n",
    "    print_x=True\n",
    ")"
   ]
  },
  {
   "cell_type": "code",
   "execution_count": 281,
   "metadata": {},
   "outputs": [
    {
     "name": "stdout",
     "output_type": "stream",
     "text": [
      "[Timer] TextRank Function took 0.005747667994000949\n"
     ]
    },
    {
     "data": {
      "image/png": "[encoded data removed]",
      "text/plain": [
       "<Figure size 432x288 with 1 Axes>"
      ]
     },
     "metadata": {},
     "output_type": "display_data"
    },
    {
     "data": {
      "text/plain": [
       "['kong', 'best']"
      ]
     },
     "execution_count": 281,
     "metadata": {},
     "output_type": "execute_result"
    }
   ],
   "source": [
    "extract_keywords_with_text_rank(\n",
    "    ['Book Cheap Flights to Hong Kong: Search and compare airfares on TripAdvisor to find the best flights for your trip to Hong Kong', 'Choose the best airline for you','Book Cheap Flights to Hong Kong: Search and compare airfares on TripAdvisor to find the best flights for your trip to Hong Kong', 'Choose the best airline for you'],\n",
    "    show_graph=True)"
   ]
  },
  {
   "cell_type": "markdown",
   "metadata": {},
   "source": [
    "## Onward, BERT"
   ]
  },
  {
   "cell_type": "code",
   "execution_count": 283,
   "metadata": {},
   "outputs": [
    {
     "name": "stdout",
     "output_type": "stream",
     "text": [
      "Finished 0 out of 448\n",
      "Finished 50 out of 448\n",
      "Finished 100 out of 448\n",
      "Finished 150 out of 448\n",
      "Finished 200 out of 448\n",
      "Finished 250 out of 448\n",
      "Finished 300 out of 448\n",
      "Finished 350 out of 448\n",
      "Finished 400 out of 448\n",
      "[Timer] Text Rank Function took 533.5712783039999\n",
      "\n",
      "\n",
      "Result\n",
      "Accuracy 0.203125\n",
      "\n",
      "Wrong examples.\n",
      "[\"['trip', 'flights', 'airfares', 'cheap', 'airline'] ------- flights to hong kong\", \"['trip', 'flights', 'airfares', 'cheap', 'airline'] ------- flights to hong kong\", \"['trip', 'flights', 'airfares', 'cheap', 'airline'] ------- flights to hong kong\", \"['trip', 'flights', 'airfares', 'cheap', 'airline'] ------- flights to hong kong\", \"['trip', 'flights', 'airfares', 'cheap', 'airline'] ------- flights to hong kong\", \"['kong', 'flights', 'china', 'xiamenair', 'airlines'] ------- flights to hong kong\", \"['kong', 'flights', 'china', 'xiamenair', 'airlines'] ------- flights to hong kong\", \"['kong', 'flights', 'china', 'xiamenair', 'airlines'] ------- flights to hong kong\", \"['kong', 'flights', 'china', 'xiamenair', 'airlines'] ------- flights to hong kong\", \"['kong', 'flights', 'china', 'xiamenair', 'airlines'] ------- flights to hong kong\"]\n",
      "\n",
      "Right examples.\n",
      "[\"['philippine', 'china', 'flights', 'xiamenair', 'airlines'] ------- flights to macau\", \"['flights', 'macau', 'airfares', 'cheap', 'airline'] ------- flights to macau\", \"['macau', 'airfare', 'flights', 'cheap', 'cheapflights'] ------- flights to macau\", \"['flexible', 'fly', 'flight', 'macau', 'flights'] ------- flights to macau\", \"['skyscanner', 'travel', 'airlines', 'flights', 'macau'] ------- flights to macau\", \"['com', 'seconds', 'flights', 'millions', 'skyscanner'] ------- flights to macau\", \"['flights', 'online', 'cheap', 'airlines', 'macau'] ------- flights to macau\", \"['macau', 'skyscanner', 'airline', 'cheap', 'flights'] ------- flights to macau\", \"['changi', 'flights', 'airlines', 'singapore', 'macau'] ------- flights to macau\", \"['cheap', 'flights', 'airfares', 'airline', 'dubai'] ------- flights to dubai\"]\n",
      "\n"
     ]
    }
   ],
   "source": [
    "evaluate_algorithm(\n",
    "    \"Text Rank\",\n",
    "    extract_keywords_with_bert,\n",
    "    {\n",
    "        \"n_gram\": (1, 1),\n",
    "        \"use_stop_words\": True,\n",
    "        \"print_time\": False\n",
    "    },\n",
    ")"
   ]
  },
  {
   "cell_type": "code",
   "execution_count": 286,
   "metadata": {},
   "outputs": [
    {
     "name": "stdout",
     "output_type": "stream",
     "text": [
      "Finished 0 out of 448\n",
      "Finished 50 out of 448\n",
      "Finished 100 out of 448\n",
      "Finished 150 out of 448\n",
      "Finished 200 out of 448\n",
      "Finished 250 out of 448\n",
      "Finished 300 out of 448\n",
      "Finished 350 out of 448\n",
      "Finished 400 out of 448\n",
      "[Timer] Bert Function took 643.7831601470025\n",
      "\n",
      "\n",
      "Result\n",
      "Accuracy 0.6651785714285714\n",
      "\n",
      "Wrong examples.\n",
      "[\"['choose best airline', 'best flights trip', 'cheap flights hong', 'book cheap flights', 'tripadvisor best flights'] ------- flights to hong kong\", \"['choose best airline', 'best flights trip', 'cheap flights hong', 'book cheap flights', 'tripadvisor best flights'] ------- flights to hong kong\", \"['choose best airline', 'best flights trip', 'cheap flights hong', 'book cheap flights', 'tripadvisor best flights'] ------- flights to hong kong\", \"['choose best airline', 'best flights trip', 'cheap flights hong', 'book cheap flights', 'tripadvisor best flights'] ------- flights to hong kong\", \"['choose best airline', 'best flights trip', 'cheap flights hong', 'book cheap flights', 'tripadvisor best flights'] ------- flights to hong kong\", \"['xiamenair air china', 'kong airlines', 'flights hong kong', 'hong kong airlines', 'kong airlines xiamenair'] ------- flights to hong kong\", \"['xiamenair air china', 'kong airlines', 'flights hong kong', 'hong kong airlines', 'kong airlines xiamenair'] ------- flights to hong kong\", \"['book great deals', 'fly hong kong', 'kong hkg flights', 'deals hong kong', 'great deals hong'] ------- flights to hong kong\", \"['delta united jetblue', 'airlines american', 'american airlines delta', 'airlines american airlines', 'airlines delta united'] ------- flights to hong kong\", \"['delta united jetblue', 'airlines american', 'american airlines delta', 'airlines american airlines', 'airlines delta united'] ------- flights to hong kong\"]\n",
      "\n",
      "Right examples.\n",
      "[\"['xiamenair air china', 'kong airlines', 'flights hong kong', 'hong kong airlines', 'kong airlines xiamenair'] ------- flights to hong kong\", \"['book great deals', 'fly hong kong', 'kong hkg flights', 'deals hong kong', 'great deals hong'] ------- flights to hong kong\", \"['best flights trip', 'tripadvisor best flights', 'book cheap flights', 'flights trip bangkok', 'cheap flights bangkok'] ------- flights to bangkok\", \"['major airline', 'southern major airline', 'flights bangkok', 'airline air china', 'flights bangkok china'] ------- flights to bangkok\", \"['flights bangkok', 'bangkok flights airlines', 'flights bangkok bkk', 'cheap bangkok flights', 'orbitz cheap bangkok'] ------- flights to bangkok\", \"['looking cheap labor', 'flights bangkok', 'cheap labor day', 'day flights bangkok', 'travel agencies cheap'] ------- flights to bangkok\", \"['airlines cheapest', 'hundreds airlines cheapest', 'airlines cheapest tickets', 'cheapest tickets bangkok', 'cheap flights bangkok'] ------- flights to bangkok\", \"['bangkok thailand destination', 'thailand destination', 'ticket deals cheapflights', 'flights bangkok thailand', 'cheap flights bangkok'] ------- flights to bangkok\", \"['airlines', 'airlines travel sites', 'airlines travel', 'flights bangkok', 'looking flights bangkok'] ------- flights to bangkok\", \"['capital thailand', 'thailand delta flights', 'flights bangkok', 'delta flights bangkok', 'beautiful capital thailand'] ------- flights to bangkok\"]\n",
      "\n",
      "[['Book Cheap Flights to Hong Kong: Search and compare airfares on TripAdvisor to find the best flights for your trip to Hong Kong', 'Choose the best airline for you'], ['Book Cheap Flights to Hong Kong: Search and compare airfares on TripAdvisor to find the best flights for your trip to Hong Kong', 'Choose the best airline for you'], ['Book Cheap Flights to Hong Kong: Search and compare airfares on TripAdvisor to find the best flights for your trip to Hong Kong', 'Choose the best airline for you'], ['Book Cheap Flights to Hong Kong: Search and compare airfares on TripAdvisor to find the best flights for your trip to Hong Kong', 'Choose the best airline for you'], ['Book Cheap Flights to Hong Kong: Search and compare airfares on TripAdvisor to find the best flights for your trip to Hong Kong', 'Choose the best airline for you'], ['Find flights to Hong Kong on Hong Kong Airlines, XiamenAir, Air China and more', 'Fly round-trip from San Francisco from $344, from New York from $434, from'], ['Find flights to Hong Kong on Hong Kong Airlines, XiamenAir, Air China and more', 'Fly round-trip from San Francisco from $344, from New York from $434, from'], ['Find & book great deals on Hong Kong (HKG) Flights', 'Fly to Hong Kong with Cathay Pacific and experience award-winning service.'], ['Flights to Hong Kong SAR from airlines such as American Airlines, Delta, United, JetBlue, Frontier, and more', 'Book your flight + hotel to save up to 100% on your'], ['Flights to Hong Kong SAR from airlines such as American Airlines, Delta, United, JetBlue, Frontier, and more', 'Book your flight + hotel to save up to 100% on your']]\n",
      "\n",
      "[['Find flights to Hong Kong on Hong Kong Airlines, XiamenAir, Air China and more', 'Fly round-trip from San Francisco from $344, from New York from $434, from'], ['Find & book great deals on Hong Kong (HKG) Flights', 'Fly to Hong Kong with Cathay Pacific and experience award-winning service.'], ['Book Cheap Flights to Bangkok: Search and compare airfares on TripAdvisor to find the best flights for your trip to Bangkok', 'Choose the best airline for you by'], ['Find flights to Bangkok on China Southern, Major Airline, Air China and more', 'Fly round-trip from San Francisco from $418, from New York from $438, from San'], ['Flights to Bangkok (BKK, DMK): Search on Orbitz for cheap Bangkok flights, airlines, and airfares to Bangkok.'], ['Looking for cheap Labor Day flights to Bangkok', 'Compare prices from hundreds of major airlines Delta, United, American, etc', '& travel agencies for cheap'], ['Cheap Flights to Bangkok, Thailand (BKK) starting at $406 round trip', 'Search hundreds of airlines for the cheapest tickets to Bangkok, Thailand!'], ['Looking for cheap flights to Bangkok, Thailand from your destination', 'Search for airfare and flight ticket deals at cheapflights.com and book your next flight'], ['Looking for flights to Bangkok', 'Search 1000+ airlines and travel sites with momondo and get the cheapest flights to Bangkok.'], [\"Visit the beautiful capital of Thailand with Delta's flights to Bangkok\", 'Explore the historic district and the modern elements around town.']]\n"
     ]
    }
   ],
   "source": [
    "evaluate_algorithm(\n",
    "    \"Bert\",\n",
    "    extract_keywords_with_bert,\n",
    "    {\n",
    "        \"n_gram\": (1, 3),\n",
    "        \"print_time\": False\n",
    "    },\n",
    "    print_x=True\n",
    ")"
   ]
  },
  {
   "cell_type": "code",
   "execution_count": 288,
   "metadata": {},
   "outputs": [
    {
     "name": "stdout",
     "output_type": "stream",
     "text": [
      "Finished 0 out of 448\n",
      "Finished 50 out of 448\n",
      "Finished 100 out of 448\n",
      "Finished 150 out of 448\n",
      "Finished 200 out of 448\n",
      "Finished 250 out of 448\n",
      "Finished 300 out of 448\n",
      "Finished 350 out of 448\n",
      "Finished 400 out of 448\n",
      "[Timer] Bert Function took 572.3377663680003\n",
      "\n",
      "\n",
      "Result\n",
      "Accuracy 0.8861607142857143\n",
      "\n",
      "Wrong examples.\n",
      "[\"['choose best airline', 'best flights trip', 'cheap flights hong', 'book cheap flights', 'tripadvisor best flights'] ------- flights to hong kong\", \"['choose best airline', 'best flights trip', 'cheap flights hong', 'book cheap flights', 'tripadvisor best flights'] ------- flights to hong kong\", \"['xiamenair air china', 'kong airlines', 'flights hong kong', 'hong kong airlines', 'kong airlines xiamenair'] ------- flights to hong kong\", \"['xiamenair air china', 'kong airlines', 'flights hong kong', 'hong kong airlines', 'kong airlines xiamenair'] ------- flights to hong kong\", \"['book great deals', 'fly hong kong', 'kong hkg flights', 'deals hong kong', 'great deals hong'] ------- flights to hong kong\", \"['delta united jetblue', 'airlines american', 'american airlines delta', 'airlines american airlines', 'airlines delta united'] ------- flights to hong kong\", \"['delta united jetblue', 'airlines american', 'american airlines delta', 'airlines american airlines', 'airlines delta united'] ------- flights to hong kong\", \"['delta united jetblue', 'airlines american', 'american airlines delta', 'airlines american airlines', 'airlines delta united'] ------- flights to hong kong\", \"['delta united jetblue', 'airlines american', 'american airlines delta', 'airlines american airlines', 'airlines delta united'] ------- flights to hong kong\", \"['delta united jetblue', 'airlines american', 'american airlines delta', 'airlines american airlines', 'airlines delta united'] ------- flights to hong kong\"]\n",
      "\n",
      "Right examples.\n",
      "[\"['choose best airline', 'best flights trip', 'cheap flights hong', 'book cheap flights', 'tripadvisor best flights'] ------- flights to hong kong\", \"['xiamenair air china', 'kong airlines', 'flights hong kong', 'hong kong airlines', 'kong airlines xiamenair'] ------- flights to hong kong\", \"['book great deals', 'fly hong kong', 'kong hkg flights', 'deals hong kong', 'great deals hong'] ------- flights to hong kong\", \"['intl hkg 2019', 'cheap flights', 'skyscanner flight comparison', 'cheap flights hong', '2019 using skyscanner'] ------- flights to hong kong\", \"['deals cheapflights', 'cheap flights', 'looking cheap flights', 'ticket deals cheapflights', 'cheap flights hong'] ------- flights to hong kong\", \"['best flights trip', 'tripadvisor best flights', 'book cheap flights', 'flights trip bangkok', 'cheap flights bangkok'] ------- flights to bangkok\", \"['american airlines delta', 'bangkok airlines american', 'bangkok airlines', 'airlines delta united', 'flights bangkok airlines'] ------- flights to bangkok\", \"['major airline', 'southern major airline', 'flights bangkok', 'airline air china', 'flights bangkok china'] ------- flights to bangkok\", \"['flights bangkok', 'bangkok flights airlines', 'flights bangkok bkk', 'cheap bangkok flights', 'orbitz cheap bangkok'] ------- flights to bangkok\", \"['looking cheap labor', 'flights bangkok', 'cheap labor day', 'day flights bangkok', 'travel agencies cheap'] ------- flights to bangkok\"]\n",
      "\n",
      "[['Book Cheap Flights to Hong Kong: Search and compare airfares on TripAdvisor to find the best flights for your trip to Hong Kong', 'Choose the best airline for you'], ['Book Cheap Flights to Hong Kong: Search and compare airfares on TripAdvisor to find the best flights for your trip to Hong Kong', 'Choose the best airline for you'], ['Find flights to Hong Kong on Hong Kong Airlines, XiamenAir, Air China and more', 'Fly round-trip from San Francisco from $344, from New York from $434, from'], ['Find flights to Hong Kong on Hong Kong Airlines, XiamenAir, Air China and more', 'Fly round-trip from San Francisco from $344, from New York from $434, from'], ['Find & book great deals on Hong Kong (HKG) Flights', 'Fly to Hong Kong with Cathay Pacific and experience award-winning service.'], ['Flights to Hong Kong SAR from airlines such as American Airlines, Delta, United, JetBlue, Frontier, and more', 'Book your flight + hotel to save up to 100% on your'], ['Flights to Hong Kong SAR from airlines such as American Airlines, Delta, United, JetBlue, Frontier, and more', 'Book your flight + hotel to save up to 100% on your'], ['Flights to Hong Kong SAR from airlines such as American Airlines, Delta, United, JetBlue, Frontier, and more', 'Book your flight + hotel to save up to 100% on your'], ['Flights to Hong Kong SAR from airlines such as American Airlines, Delta, United, JetBlue, Frontier, and more', 'Book your flight + hotel to save up to 100% on your'], ['Flights to Hong Kong SAR from airlines such as American Airlines, Delta, United, JetBlue, Frontier, and more', 'Book your flight + hotel to save up to 100% on your']]\n",
      "\n",
      "[['Book Cheap Flights to Hong Kong: Search and compare airfares on TripAdvisor to find the best flights for your trip to Hong Kong', 'Choose the best airline for you'], ['Find flights to Hong Kong on Hong Kong Airlines, XiamenAir, Air China and more', 'Fly round-trip from San Francisco from $344, from New York from $434, from'], ['Find & book great deals on Hong Kong (HKG) Flights', 'Fly to Hong Kong with Cathay Pacific and experience award-winning service.'], [\"Find cheap flights to Hong Kong Intl (HKG) in 2019 using Skyscanner's flight comparison tool\", 'We compare all major airlines and travel agents for flights to Hong'], ['Looking for cheap flights to Hong Kong from your destination', 'Search for airfare and flight ticket deals at cheapflights.com and book your next flight today.'], ['Book Cheap Flights to Bangkok: Search and compare airfares on TripAdvisor to find the best flights for your trip to Bangkok', 'Choose the best airline for you by'], ['Flights to Bangkok from airlines such as American Airlines, Delta, United, JetBlue, Frontier, and more', 'Book your flight + hotel to save up to 100% on your flight.'], ['Find flights to Bangkok on China Southern, Major Airline, Air China and more', 'Fly round-trip from San Francisco from $418, from New York from $438, from San'], ['Flights to Bangkok (BKK, DMK): Search on Orbitz for cheap Bangkok flights, airlines, and airfares to Bangkok.'], ['Looking for cheap Labor Day flights to Bangkok', 'Compare prices from hundreds of major airlines Delta, United, American, etc', '& travel agencies for cheap']]\n"
     ]
    }
   ],
   "source": [
    "evaluate_algorithm(\n",
    "    \"Bert\",\n",
    "    extract_keywords_with_bert,\n",
    "    {\n",
    "        \"n_gram\": (1, 3),\n",
    "        \"print_time\": False\n",
    "    },\n",
    "    delta=15,\n",
    "    print_x=True\n",
    ")"
   ]
  },
  {
   "cell_type": "markdown",
   "metadata": {},
   "source": [
    "#### bert-base-nli-stsb-mean-tokens"
   ]
  },
  {
   "cell_type": "code",
   "execution_count": 289,
   "metadata": {},
   "outputs": [
    {
     "name": "stdout",
     "output_type": "stream",
     "text": [
      "Finished 0 out of 448\n",
      "Finished 50 out of 448\n",
      "Finished 100 out of 448\n",
      "Finished 150 out of 448\n",
      "Finished 200 out of 448\n",
      "Finished 250 out of 448\n",
      "Finished 300 out of 448\n",
      "Finished 350 out of 448\n",
      "Finished 400 out of 448\n",
      "[Timer] Bert Function took 2936.9500789929953\n",
      "\n",
      "\n",
      "Result\n",
      "Accuracy 0.7410714285714286\n",
      "\n",
      "Wrong examples.\n",
      "[\"['best flights', 'best flights trip', 'cheap flights', 'cheap flights hong', 'book cheap flights'] ------- flights to hong kong\", \"['best flights', 'best flights trip', 'cheap flights', 'cheap flights hong', 'book cheap flights'] ------- flights to hong kong\", \"['best flights', 'best flights trip', 'cheap flights', 'cheap flights hong', 'book cheap flights'] ------- flights to hong kong\", \"['best flights', 'best flights trip', 'cheap flights', 'cheap flights hong', 'book cheap flights'] ------- flights to hong kong\", \"['best flights', 'best flights trip', 'cheap flights', 'cheap flights hong', 'book cheap flights'] ------- flights to hong kong\", \"['airlines', 'airlines american airlines', 'flights hong', 'flights hong kong', 'kong sar airlines'] ------- flights to hong kong\", \"['airlines', 'airlines american airlines', 'flights hong', 'flights hong kong', 'kong sar airlines'] ------- flights to hong kong\", \"['2019', '15', 'aug 15', '15 2019', 'aug 15 2019'] ------- flights to hong kong\", \"['2019', '15', 'aug 15', '15 2019', 'aug 15 2019'] ------- flights to hong kong\", \"['2019', '15', 'aug 15', '15 2019', 'aug 15 2019'] ------- flights to hong kong\"]\n",
      "\n",
      "Right examples.\n",
      "[\"['flights hong', 'kong airlines', 'kong airlines xiamenair', 'hong kong airlines', 'flights hong kong'] ------- flights to hong kong\", \"['deals hong kong', 'fly hong kong', 'book great deals', 'kong hkg flights', 'great deals hong'] ------- flights to hong kong\", \"['airlines', 'airlines american airlines', 'flights hong', 'flights hong kong', 'kong sar airlines'] ------- flights to hong kong\", \"['agents flights hong', 'flights hong kong', 'flights hong', 'cheap flights', 'cheap flights hong'] ------- flights to hong kong\", \"['choose best airline', 'cheap flights', 'best flights trip', 'book cheap flights', 'cheap flights bangkok'] ------- flights to bangkok\", \"['airlines', 'bangkok airlines', 'flights bangkok', 'bangkok airlines american', 'flights bangkok airlines'] ------- flights to bangkok\", \"['major airline', 'major airline air', 'airline air china', 'flights bangkok', 'flights bangkok china'] ------- flights to bangkok\", \"['bangkok flights', 'bangkok flights airlines', 'flights bangkok', 'airlines airfares bangkok', 'flights bangkok bkk'] ------- flights to bangkok\", \"['looking cheap labor', 'cheap labor day', 'flights bangkok', 'day flights bangkok', 'travel agencies cheap'] ------- flights to bangkok\", \"['hundreds airlines cheapest', 'airlines cheapest', 'airlines cheapest tickets', 'cheapest tickets bangkok', 'cheap flights bangkok'] ------- flights to bangkok\"]\n",
      "\n",
      "[['Book Cheap Flights to Hong Kong: Search and compare airfares on TripAdvisor to find the best flights for your trip to Hong Kong', 'Choose the best airline for you'], ['Book Cheap Flights to Hong Kong: Search and compare airfares on TripAdvisor to find the best flights for your trip to Hong Kong', 'Choose the best airline for you'], ['Book Cheap Flights to Hong Kong: Search and compare airfares on TripAdvisor to find the best flights for your trip to Hong Kong', 'Choose the best airline for you'], ['Book Cheap Flights to Hong Kong: Search and compare airfares on TripAdvisor to find the best flights for your trip to Hong Kong', 'Choose the best airline for you'], ['Book Cheap Flights to Hong Kong: Search and compare airfares on TripAdvisor to find the best flights for your trip to Hong Kong', 'Choose the best airline for you'], ['Flights to Hong Kong SAR from airlines such as American Airlines, Delta, United, JetBlue, Frontier, and more', 'Book your flight + hotel to save up to 100% on your'], ['Flights to Hong Kong SAR from airlines such as American Airlines, Delta, United, JetBlue, Frontier, and more', 'Book your flight + hotel to save up to 100% on your'], ['Aug 15, 2019 ..', 'Flights are resuming after protesters clashed with police last night at the Hong Kong airport', 'Follow here for the latest.'], ['Aug 15, 2019 ..', 'Flights are resuming after protesters clashed with police last night at the Hong Kong airport', 'Follow here for the latest.'], ['Aug 15, 2019 ..', 'Flights are resuming after protesters clashed with police last night at the Hong Kong airport', 'Follow here for the latest.']]\n",
      "\n",
      "[['Find flights to Hong Kong on Hong Kong Airlines, XiamenAir, Air China and more', 'Fly round-trip from San Francisco from $344, from New York from $434, from'], ['Find & book great deals on Hong Kong (HKG) Flights', 'Fly to Hong Kong with Cathay Pacific and experience award-winning service.'], ['Flights to Hong Kong SAR from airlines such as American Airlines, Delta, United, JetBlue, Frontier, and more', 'Book your flight + hotel to save up to 100% on your'], [\"Find cheap flights to Hong Kong Intl (HKG) in 2019 using Skyscanner's flight comparison tool\", 'We compare all major airlines and travel agents for flights to Hong'], ['Book Cheap Flights to Bangkok: Search and compare airfares on TripAdvisor to find the best flights for your trip to Bangkok', 'Choose the best airline for you by'], ['Flights to Bangkok from airlines such as American Airlines, Delta, United, JetBlue, Frontier, and more', 'Book your flight + hotel to save up to 100% on your flight.'], ['Find flights to Bangkok on China Southern, Major Airline, Air China and more', 'Fly round-trip from San Francisco from $418, from New York from $438, from San'], ['Flights to Bangkok (BKK, DMK): Search on Orbitz for cheap Bangkok flights, airlines, and airfares to Bangkok.'], ['Looking for cheap Labor Day flights to Bangkok', 'Compare prices from hundreds of major airlines Delta, United, American, etc', '& travel agencies for cheap'], ['Cheap Flights to Bangkok, Thailand (BKK) starting at $406 round trip', 'Search hundreds of airlines for the cheapest tickets to Bangkok, Thailand!']]\n"
     ]
    }
   ],
   "source": [
    "evaluate_algorithm(\n",
    "    \"Bert\",\n",
    "    extract_keywords_with_bert,\n",
    "    {\n",
    "        \"n_gram\": (1, 3),\n",
    "        \"print_time\": False,\n",
    "        \"model_name\": \"xlm-r-bert-base-nli-stsb-mean-tokens\"\n",
    "    },\n",
    "    print_x=True\n",
    ")"
   ]
  },
  {
   "cell_type": "code",
   "execution_count": 290,
   "metadata": {},
   "outputs": [
    {
     "name": "stdout",
     "output_type": "stream",
     "text": [
      "Finished 0 out of 448\n",
      "Finished 50 out of 448\n",
      "Finished 100 out of 448\n",
      "Finished 150 out of 448\n",
      "Finished 200 out of 448\n",
      "Finished 250 out of 448\n",
      "Finished 300 out of 448\n",
      "Finished 350 out of 448\n",
      "Finished 400 out of 448\n",
      "[Timer] Bert Function took 2924.374861575998\n",
      "\n",
      "\n",
      "Result\n",
      "Accuracy 0.9040178571428571\n",
      "\n",
      "Wrong examples.\n",
      "[\"['best flights', 'best flights trip', 'cheap flights', 'cheap flights hong', 'book cheap flights'] ------- flights to hong kong\", \"['best flights', 'best flights trip', 'cheap flights', 'cheap flights hong', 'book cheap flights'] ------- flights to hong kong\", \"['best flights', 'best flights trip', 'cheap flights', 'cheap flights hong', 'book cheap flights'] ------- flights to hong kong\", \"['airlines', 'airlines american airlines', 'flights hong', 'flights hong kong', 'kong sar airlines'] ------- flights to hong kong\", \"['airlines', 'airlines american airlines', 'flights hong', 'flights hong kong', 'kong sar airlines'] ------- flights to hong kong\", \"['2019', '15', 'aug 15', '15 2019', 'aug 15 2019'] ------- flights to hong kong\", \"['2019', '15', 'aug 15', '15 2019', 'aug 15 2019'] ------- flights to hong kong\", \"['2019', '15', 'aug 15', '15 2019', 'aug 15 2019'] ------- flights to hong kong\", \"['2019', '15', 'aug 15', '15 2019', 'aug 15 2019'] ------- flights to hong kong\", \"['2019', '15', 'aug 15', '15 2019', 'aug 15 2019'] ------- flights to hong kong\"]\n",
      "\n",
      "Right examples.\n",
      "[\"['best flights', 'best flights trip', 'cheap flights', 'cheap flights hong', 'book cheap flights'] ------- flights to hong kong\", \"['flights hong', 'kong airlines', 'kong airlines xiamenair', 'hong kong airlines', 'flights hong kong'] ------- flights to hong kong\", \"['deals hong kong', 'fly hong kong', 'book great deals', 'kong hkg flights', 'great deals hong'] ------- flights to hong kong\", \"['airlines', 'airlines american airlines', 'flights hong', 'flights hong kong', 'kong sar airlines'] ------- flights to hong kong\", \"['agents flights hong', 'flights hong kong', 'flights hong', 'cheap flights', 'cheap flights hong'] ------- flights to hong kong\", \"['deals cheapflights', 'ticket deals cheapflights', 'cheap flights', 'looking cheap flights', 'cheap flights hong'] ------- flights to hong kong\", \"['choose best airline', 'cheap flights', 'best flights trip', 'book cheap flights', 'cheap flights bangkok'] ------- flights to bangkok\", \"['airlines', 'bangkok airlines', 'flights bangkok', 'bangkok airlines american', 'flights bangkok airlines'] ------- flights to bangkok\", \"['major airline', 'major airline air', 'airline air china', 'flights bangkok', 'flights bangkok china'] ------- flights to bangkok\", \"['bangkok flights', 'bangkok flights airlines', 'flights bangkok', 'airlines airfares bangkok', 'flights bangkok bkk'] ------- flights to bangkok\"]\n",
      "\n",
      "[['Book Cheap Flights to Hong Kong: Search and compare airfares on TripAdvisor to find the best flights for your trip to Hong Kong', 'Choose the best airline for you'], ['Book Cheap Flights to Hong Kong: Search and compare airfares on TripAdvisor to find the best flights for your trip to Hong Kong', 'Choose the best airline for you'], ['Book Cheap Flights to Hong Kong: Search and compare airfares on TripAdvisor to find the best flights for your trip to Hong Kong', 'Choose the best airline for you'], ['Flights to Hong Kong SAR from airlines such as American Airlines, Delta, United, JetBlue, Frontier, and more', 'Book your flight + hotel to save up to 100% on your'], ['Flights to Hong Kong SAR from airlines such as American Airlines, Delta, United, JetBlue, Frontier, and more', 'Book your flight + hotel to save up to 100% on your'], ['Aug 15, 2019 ..', 'Flights are resuming after protesters clashed with police last night at the Hong Kong airport', 'Follow here for the latest.'], ['Aug 15, 2019 ..', 'Flights are resuming after protesters clashed with police last night at the Hong Kong airport', 'Follow here for the latest.'], ['Aug 15, 2019 ..', 'Flights are resuming after protesters clashed with police last night at the Hong Kong airport', 'Follow here for the latest.'], ['Aug 15, 2019 ..', 'Flights are resuming after protesters clashed with police last night at the Hong Kong airport', 'Follow here for the latest.'], ['Aug 15, 2019 ..', 'Flights are resuming after protesters clashed with police last night at the Hong Kong airport', 'Follow here for the latest.']]\n",
      "\n",
      "[['Book Cheap Flights to Hong Kong: Search and compare airfares on TripAdvisor to find the best flights for your trip to Hong Kong', 'Choose the best airline for you'], ['Find flights to Hong Kong on Hong Kong Airlines, XiamenAir, Air China and more', 'Fly round-trip from San Francisco from $344, from New York from $434, from'], ['Find & book great deals on Hong Kong (HKG) Flights', 'Fly to Hong Kong with Cathay Pacific and experience award-winning service.'], ['Flights to Hong Kong SAR from airlines such as American Airlines, Delta, United, JetBlue, Frontier, and more', 'Book your flight + hotel to save up to 100% on your'], [\"Find cheap flights to Hong Kong Intl (HKG) in 2019 using Skyscanner's flight comparison tool\", 'We compare all major airlines and travel agents for flights to Hong'], ['Looking for cheap flights to Hong Kong from your destination', 'Search for airfare and flight ticket deals at cheapflights.com and book your next flight today.'], ['Book Cheap Flights to Bangkok: Search and compare airfares on TripAdvisor to find the best flights for your trip to Bangkok', 'Choose the best airline for you by'], ['Flights to Bangkok from airlines such as American Airlines, Delta, United, JetBlue, Frontier, and more', 'Book your flight + hotel to save up to 100% on your flight.'], ['Find flights to Bangkok on China Southern, Major Airline, Air China and more', 'Fly round-trip from San Francisco from $418, from New York from $438, from San'], ['Flights to Bangkok (BKK, DMK): Search on Orbitz for cheap Bangkok flights, airlines, and airfares to Bangkok.']]\n"
     ]
    }
   ],
   "source": [
    "evaluate_algorithm(\n",
    "    \"Bert\",\n",
    "    extract_keywords_with_bert,\n",
    "    {\n",
    "        \"n_gram\": (1, 3),\n",
    "        \"print_time\": False,\n",
    "        \"model_name\": \"xlm-r-bert-base-nli-stsb-mean-tokens\"\n",
    "    },\n",
    "    delta=15,\n",
    "    print_x=True\n",
    ")"
   ]
  },
  {
   "cell_type": "markdown",
   "metadata": {},
   "source": [
    "### roberta-base-nli-stsb-mean-tokens"
   ]
  },
  {
   "cell_type": "code",
   "execution_count": 291,
   "metadata": {},
   "outputs": [
    {
     "name": "stdout",
     "output_type": "stream",
     "text": [
      "Finished 0 out of 448\n",
      "Finished 50 out of 448\n",
      "Finished 100 out of 448\n",
      "Finished 150 out of 448\n",
      "Finished 200 out of 448\n",
      "Finished 250 out of 448\n",
      "Finished 300 out of 448\n",
      "Finished 350 out of 448\n",
      "Finished 400 out of 448\n",
      "[Timer] Bert Function took 1230.1289690859994\n",
      "\n",
      "\n",
      "Result\n",
      "Accuracy 0.7879464285714286\n",
      "\n",
      "Wrong examples.\n",
      "[\"['compare airfares tripadvisor', 'flights hong kong', 'book cheap flights', 'flights trip hong', 'cheap flights hong'] ------- flights to hong kong\", \"['kong airlines xiamenair', 'kong airlines', 'flights hong', 'flights hong kong', 'hong kong airlines'] ------- flights to hong kong\", \"['kong airlines xiamenair', 'kong airlines', 'flights hong', 'flights hong kong', 'hong kong airlines'] ------- flights to hong kong\", \"['kong sar', 'hong kong sar', 'flights hong', 'flights hong kong', 'kong sar airlines'] ------- flights to hong kong\", \"['kong sar', 'hong kong sar', 'flights hong', 'flights hong kong', 'kong sar airlines'] ------- flights to hong kong\", \"['2019', '15', 'aug 15', '15 2019', 'aug 15 2019'] ------- flights to hong kong\", \"['2019', '15', 'aug 15', '15 2019', 'aug 15 2019'] ------- flights to hong kong\", \"['2019', '15', 'aug 15', '15 2019', 'aug 15 2019'] ------- flights to hong kong\", \"['2019', '15', 'aug 15', '15 2019', 'aug 15 2019'] ------- flights to hong kong\", \"['2019', '15', 'aug 15', '15 2019', 'aug 15 2019'] ------- flights to hong kong\"]\n",
      "\n",
      "Right examples.\n",
      "[\"['compare airfares tripadvisor', 'flights hong kong', 'book cheap flights', 'flights trip hong', 'cheap flights hong'] ------- flights to hong kong\", \"['kong airlines xiamenair', 'kong airlines', 'flights hong', 'flights hong kong', 'hong kong airlines'] ------- flights to hong kong\", \"['deals hong kong', 'hong kong hkg', 'fly hong kong', 'kong hkg flights', 'great deals hong'] ------- flights to hong kong\", \"['kong sar', 'hong kong sar', 'flights hong', 'flights hong kong', 'kong sar airlines'] ------- flights to hong kong\", \"['skyscanner flight comparison', '2019 using skyscanner', 'flights hong kong', 'cheap flights', 'cheap flights hong'] ------- flights to hong kong\", \"['ticket deals cheapflights', 'looking cheap flights', 'deals cheapflights', 'flights hong kong', 'cheap flights hong'] ------- flights to hong kong\", \"['book cheap flights', 'flights bangkok search', 'flights bangkok', 'cheap flights bangkok', 'flights trip bangkok'] ------- flights to bangkok\", \"['flights', 'bangkok airlines', 'bangkok airlines american', 'flights bangkok', 'flights bangkok airlines'] ------- flights to bangkok\", \"['airline air china', 'bangkok china', 'bangkok china southern', 'flights bangkok', 'flights bangkok china'] ------- flights to bangkok\", \"['orbitz cheap bangkok', 'bangkok flights airlines', 'bangkok flights', 'flights bangkok', 'airlines airfares bangkok'] ------- flights to bangkok\"]\n",
      "\n",
      "[['Book Cheap Flights to Hong Kong: Search and compare airfares on TripAdvisor to find the best flights for your trip to Hong Kong', 'Choose the best airline for you'], ['Find flights to Hong Kong on Hong Kong Airlines, XiamenAir, Air China and more', 'Fly round-trip from San Francisco from $344, from New York from $434, from'], ['Find flights to Hong Kong on Hong Kong Airlines, XiamenAir, Air China and more', 'Fly round-trip from San Francisco from $344, from New York from $434, from'], ['Flights to Hong Kong SAR from airlines such as American Airlines, Delta, United, JetBlue, Frontier, and more', 'Book your flight + hotel to save up to 100% on your'], ['Flights to Hong Kong SAR from airlines such as American Airlines, Delta, United, JetBlue, Frontier, and more', 'Book your flight + hotel to save up to 100% on your'], ['Aug 15, 2019 ..', 'Flights are resuming after protesters clashed with police last night at the Hong Kong airport', 'Follow here for the latest.'], ['Aug 15, 2019 ..', 'Flights are resuming after protesters clashed with police last night at the Hong Kong airport', 'Follow here for the latest.'], ['Aug 15, 2019 ..', 'Flights are resuming after protesters clashed with police last night at the Hong Kong airport', 'Follow here for the latest.'], ['Aug 15, 2019 ..', 'Flights are resuming after protesters clashed with police last night at the Hong Kong airport', 'Follow here for the latest.'], ['Aug 15, 2019 ..', 'Flights are resuming after protesters clashed with police last night at the Hong Kong airport', 'Follow here for the latest.']]\n",
      "\n",
      "[['Book Cheap Flights to Hong Kong: Search and compare airfares on TripAdvisor to find the best flights for your trip to Hong Kong', 'Choose the best airline for you'], ['Find flights to Hong Kong on Hong Kong Airlines, XiamenAir, Air China and more', 'Fly round-trip from San Francisco from $344, from New York from $434, from'], ['Find & book great deals on Hong Kong (HKG) Flights', 'Fly to Hong Kong with Cathay Pacific and experience award-winning service.'], ['Flights to Hong Kong SAR from airlines such as American Airlines, Delta, United, JetBlue, Frontier, and more', 'Book your flight + hotel to save up to 100% on your'], [\"Find cheap flights to Hong Kong Intl (HKG) in 2019 using Skyscanner's flight comparison tool\", 'We compare all major airlines and travel agents for flights to Hong'], ['Looking for cheap flights to Hong Kong from your destination', 'Search for airfare and flight ticket deals at cheapflights.com and book your next flight today.'], ['Book Cheap Flights to Bangkok: Search and compare airfares on TripAdvisor to find the best flights for your trip to Bangkok', 'Choose the best airline for you by'], ['Flights to Bangkok from airlines such as American Airlines, Delta, United, JetBlue, Frontier, and more', 'Book your flight + hotel to save up to 100% on your flight.'], ['Find flights to Bangkok on China Southern, Major Airline, Air China and more', 'Fly round-trip from San Francisco from $418, from New York from $438, from San'], ['Flights to Bangkok (BKK, DMK): Search on Orbitz for cheap Bangkok flights, airlines, and airfares to Bangkok.']]\n"
     ]
    }
   ],
   "source": [
    "evaluate_algorithm(\n",
    "    \"Bert\",\n",
    "    extract_keywords_with_bert,\n",
    "    {\n",
    "        \"n_gram\": (1, 3),\n",
    "        \"print_time\": False,\n",
    "        \"model_name\": \"roberta-base-nli-stsb-mean-tokens\"\n",
    "    },\n",
    "    print_x=True\n",
    ")"
   ]
  },
  {
   "cell_type": "code",
   "execution_count": 308,
   "metadata": {},
   "outputs": [
    {
     "name": "stdout",
     "output_type": "stream",
     "text": [
      "Finished 0 out of 448\n",
      "Finished 50 out of 448\n",
      "Finished 100 out of 448\n",
      "Finished 150 out of 448\n",
      "Finished 200 out of 448\n",
      "Finished 250 out of 448\n",
      "Finished 300 out of 448\n",
      "Finished 350 out of 448\n",
      "Finished 400 out of 448\n",
      "[Timer] Bert Function took 5269.899526319015\n",
      "\n",
      "\n",
      "Result\n",
      "Accuracy 0.7589285714285714\n",
      "\n",
      "Wrong examples.\n",
      "[\"['cheap flights', 'search compare airfares', 'airfares tripadvisor best', 'book cheap flights', 'cheap flights hong'] ------- flights to hong kong\", \"['cheap flights', 'search compare airfares', 'airfares tripadvisor best', 'book cheap flights', 'cheap flights hong'] ------- flights to hong kong\", \"['cheap flights', 'search compare airfares', 'airfares tripadvisor best', 'book cheap flights', 'cheap flights hong'] ------- flights to hong kong\", \"['cheap flights', 'search compare airfares', 'airfares tripadvisor best', 'book cheap flights', 'cheap flights hong'] ------- flights to hong kong\", \"['cheap flights', 'search compare airfares', 'airfares tripadvisor best', 'book cheap flights', 'cheap flights hong'] ------- flights to hong kong\", \"['kong airlines', 'kong airlines xiamenair', 'flights hong', 'hong kong airlines', 'flights hong kong'] ------- flights to hong kong\", \"['kong airlines', 'kong airlines xiamenair', 'flights hong', 'hong kong airlines', 'flights hong kong'] ------- flights to hong kong\", \"['hong kong', 'great deals', 'book great deals', 'deals hong kong', 'great deals hong'] ------- flights to hong kong\", \"['hong kong', 'great deals', 'book great deals', 'deals hong kong', 'great deals hong'] ------- flights to hong kong\", \"['hong kong', 'great deals', 'book great deals', 'deals hong kong', 'great deals hong'] ------- flights to hong kong\"]\n",
      "\n",
      "Right examples.\n",
      "[\"['kong airlines', 'kong airlines xiamenair', 'flights hong', 'hong kong airlines', 'flights hong kong'] ------- flights to hong kong\", \"['hong kong', 'great deals', 'book great deals', 'deals hong kong', 'great deals hong'] ------- flights to hong kong\", \"['flights hong', 'american airlines delta', 'airlines delta', 'kong sar airlines', 'flights hong kong'] ------- flights to hong kong\", \"['hong kong intl', 'flights hong', 'flights hong kong', 'cheap flights', 'cheap flights hong'] ------- flights to hong kong\", \"['hong kong destination', 'deals cheapflights com', 'flights hong kong', 'ticket deals cheapflights', 'cheap flights hong'] ------- flights to hong kong\", \"['airfares tripadvisor best', 'bangkok search compare', 'flights bangkok search', 'book cheap flights', 'cheap flights bangkok'] ------- flights to bangkok\", \"['american airlines delta', 'bangkok airlines', 'flights bangkok', 'flights bangkok airlines', 'bangkok airlines american'] ------- flights to bangkok\", \"['bangkok', 'bangkok china southern', 'bangkok china', 'flights bangkok', 'flights bangkok china'] ------- flights to bangkok\", \"['airlines airfares bangkok', 'airfares bangkok', 'cheap bangkok', 'cheap bangkok flights', 'orbitz cheap bangkok'] ------- flights to bangkok\", \"['day flights bangkok', 'cheap labor', 'looking cheap labor', 'flights bangkok', 'cheap labor day'] ------- flights to bangkok\"]\n",
      "\n",
      "[['Book Cheap Flights to Hong Kong: Search and compare airfares on TripAdvisor to find the best flights for your trip to Hong Kong', 'Choose the best airline for you'], ['Book Cheap Flights to Hong Kong: Search and compare airfares on TripAdvisor to find the best flights for your trip to Hong Kong', 'Choose the best airline for you'], ['Book Cheap Flights to Hong Kong: Search and compare airfares on TripAdvisor to find the best flights for your trip to Hong Kong', 'Choose the best airline for you'], ['Book Cheap Flights to Hong Kong: Search and compare airfares on TripAdvisor to find the best flights for your trip to Hong Kong', 'Choose the best airline for you'], ['Book Cheap Flights to Hong Kong: Search and compare airfares on TripAdvisor to find the best flights for your trip to Hong Kong', 'Choose the best airline for you'], ['Find flights to Hong Kong on Hong Kong Airlines, XiamenAir, Air China and more', 'Fly round-trip from San Francisco from $344, from New York from $434, from'], ['Find flights to Hong Kong on Hong Kong Airlines, XiamenAir, Air China and more', 'Fly round-trip from San Francisco from $344, from New York from $434, from'], ['Find & book great deals on Hong Kong (HKG) Flights', 'Fly to Hong Kong with Cathay Pacific and experience award-winning service.'], ['Find & book great deals on Hong Kong (HKG) Flights', 'Fly to Hong Kong with Cathay Pacific and experience award-winning service.'], ['Find & book great deals on Hong Kong (HKG) Flights', 'Fly to Hong Kong with Cathay Pacific and experience award-winning service.']]\n",
      "\n",
      "[['Find flights to Hong Kong on Hong Kong Airlines, XiamenAir, Air China and more', 'Fly round-trip from San Francisco from $344, from New York from $434, from'], ['Find & book great deals on Hong Kong (HKG) Flights', 'Fly to Hong Kong with Cathay Pacific and experience award-winning service.'], ['Flights to Hong Kong SAR from airlines such as American Airlines, Delta, United, JetBlue, Frontier, and more', 'Book your flight + hotel to save up to 100% on your'], [\"Find cheap flights to Hong Kong Intl (HKG) in 2019 using Skyscanner's flight comparison tool\", 'We compare all major airlines and travel agents for flights to Hong'], ['Looking for cheap flights to Hong Kong from your destination', 'Search for airfare and flight ticket deals at cheapflights.com and book your next flight today.'], ['Book Cheap Flights to Bangkok: Search and compare airfares on TripAdvisor to find the best flights for your trip to Bangkok', 'Choose the best airline for you by'], ['Flights to Bangkok from airlines such as American Airlines, Delta, United, JetBlue, Frontier, and more', 'Book your flight + hotel to save up to 100% on your flight.'], ['Find flights to Bangkok on China Southern, Major Airline, Air China and more', 'Fly round-trip from San Francisco from $418, from New York from $438, from San'], ['Flights to Bangkok (BKK, DMK): Search on Orbitz for cheap Bangkok flights, airlines, and airfares to Bangkok.'], ['Looking for cheap Labor Day flights to Bangkok', 'Compare prices from hundreds of major airlines Delta, United, American, etc', '& travel agencies for cheap']]\n"
     ]
    }
   ],
   "source": [
    "evaluate_algorithm(\n",
    "    \"Bert\",\n",
    "    extract_keywords_with_bert,\n",
    "    {\n",
    "        \"n_gram\": (1, 3),\n",
    "        \"print_time\": False,\n",
    "        \"model_name\": \"roberta-large-nli-stsb-mean-tokens\"\n",
    "    },\n",
    "    print_x=True\n",
    ")"
   ]
  },
  {
   "cell_type": "markdown",
   "metadata": {},
   "source": [
    "### bert-base-nli-stsb-mean-tokens"
   ]
  },
  {
   "cell_type": "code",
   "execution_count": 293,
   "metadata": {},
   "outputs": [
    {
     "name": "stdout",
     "output_type": "stream",
     "text": [
      "Finished 0 out of 448\n",
      "Finished 50 out of 448\n",
      "Finished 100 out of 448\n",
      "Finished 150 out of 448\n",
      "Finished 200 out of 448\n",
      "Finished 250 out of 448\n",
      "Finished 300 out of 448\n",
      "Finished 350 out of 448\n",
      "Finished 400 out of 448\n",
      "[Timer] Bert Function took 1054.062828424001\n",
      "\n",
      "\n",
      "Result\n",
      "Accuracy 0.7321428571428571\n",
      "\n",
      "Wrong examples.\n",
      "[\"['tripadvisor best flights', 'best flights trip', 'cheap flights', 'cheap flights hong', 'book cheap flights'] ------- flights to hong kong\", \"['tripadvisor best flights', 'best flights trip', 'cheap flights', 'cheap flights hong', 'book cheap flights'] ------- flights to hong kong\", \"['tripadvisor best flights', 'best flights trip', 'cheap flights', 'cheap flights hong', 'book cheap flights'] ------- flights to hong kong\", \"['tripadvisor best flights', 'best flights trip', 'cheap flights', 'cheap flights hong', 'book cheap flights'] ------- flights to hong kong\", \"['tripadvisor best flights', 'best flights trip', 'cheap flights', 'cheap flights hong', 'book cheap flights'] ------- flights to hong kong\", \"['kong airlines', 'kong airlines xiamenair', 'flights hong', 'hong kong airlines', 'flights hong kong'] ------- flights to hong kong\", \"['kong airlines', 'kong airlines xiamenair', 'flights hong', 'hong kong airlines', 'flights hong kong'] ------- flights to hong kong\", \"['airlines american', 'flights hong kong', 'flights hong', 'sar airlines american', 'kong sar airlines'] ------- flights to hong kong\", \"['15', '2019', 'aug 15', '15 2019', 'aug 15 2019'] ------- flights to hong kong\", \"['15', '2019', 'aug 15', '15 2019', 'aug 15 2019'] ------- flights to hong kong\"]\n",
      "\n",
      "Right examples.\n",
      "[\"['kong airlines', 'kong airlines xiamenair', 'flights hong', 'hong kong airlines', 'flights hong kong'] ------- flights to hong kong\", \"['deals hong kong', 'hkg flights', 'kong hkg flights', 'book great deals', 'great deals hong'] ------- flights to hong kong\", \"['airlines american', 'flights hong kong', 'flights hong', 'sar airlines american', 'kong sar airlines'] ------- flights to hong kong\", \"['flights hong', 'flight comparison', 'flight comparison tool', 'cheap flights', 'cheap flights hong'] ------- flights to hong kong\", \"['best flights trip', 'tripadvisor best flights', 'cheap flights', 'book cheap flights', 'cheap flights bangkok'] ------- flights to bangkok\", \"['airlines delta united', 'flights bangkok', 'bangkok airlines', 'flights bangkok airlines', 'bangkok airlines american'] ------- flights to bangkok\", \"['airline air china', 'bangkok china', 'bangkok china southern', 'flights bangkok', 'flights bangkok china'] ------- flights to bangkok\", \"['flights bangkok bkk', 'airfares bangkok', 'orbitz cheap bangkok', 'cheap bangkok flights', 'airlines airfares bangkok'] ------- flights to bangkok\", \"['airlines cheapest', 'hundreds airlines cheapest', 'airlines cheapest tickets', 'cheapest tickets bangkok', 'cheap flights bangkok'] ------- flights to bangkok\", \"['cheapflights com', 'ticket deals cheapflights', 'cheap flights', 'looking cheap flights', 'cheap flights bangkok'] ------- flights to bangkok\"]\n",
      "\n",
      "[['Book Cheap Flights to Hong Kong: Search and compare airfares on TripAdvisor to find the best flights for your trip to Hong Kong', 'Choose the best airline for you'], ['Book Cheap Flights to Hong Kong: Search and compare airfares on TripAdvisor to find the best flights for your trip to Hong Kong', 'Choose the best airline for you'], ['Book Cheap Flights to Hong Kong: Search and compare airfares on TripAdvisor to find the best flights for your trip to Hong Kong', 'Choose the best airline for you'], ['Book Cheap Flights to Hong Kong: Search and compare airfares on TripAdvisor to find the best flights for your trip to Hong Kong', 'Choose the best airline for you'], ['Book Cheap Flights to Hong Kong: Search and compare airfares on TripAdvisor to find the best flights for your trip to Hong Kong', 'Choose the best airline for you'], ['Find flights to Hong Kong on Hong Kong Airlines, XiamenAir, Air China and more', 'Fly round-trip from San Francisco from $344, from New York from $434, from'], ['Find flights to Hong Kong on Hong Kong Airlines, XiamenAir, Air China and more', 'Fly round-trip from San Francisco from $344, from New York from $434, from'], ['Flights to Hong Kong SAR from airlines such as American Airlines, Delta, United, JetBlue, Frontier, and more', 'Book your flight + hotel to save up to 100% on your'], ['Aug 15, 2019 ..', 'Flights are resuming after protesters clashed with police last night at the Hong Kong airport', 'Follow here for the latest.'], ['Aug 15, 2019 ..', 'Flights are resuming after protesters clashed with police last night at the Hong Kong airport', 'Follow here for the latest.']]\n",
      "\n",
      "[['Find flights to Hong Kong on Hong Kong Airlines, XiamenAir, Air China and more', 'Fly round-trip from San Francisco from $344, from New York from $434, from'], ['Find & book great deals on Hong Kong (HKG) Flights', 'Fly to Hong Kong with Cathay Pacific and experience award-winning service.'], ['Flights to Hong Kong SAR from airlines such as American Airlines, Delta, United, JetBlue, Frontier, and more', 'Book your flight + hotel to save up to 100% on your'], [\"Find cheap flights to Hong Kong Intl (HKG) in 2019 using Skyscanner's flight comparison tool\", 'We compare all major airlines and travel agents for flights to Hong'], ['Book Cheap Flights to Bangkok: Search and compare airfares on TripAdvisor to find the best flights for your trip to Bangkok', 'Choose the best airline for you by'], ['Flights to Bangkok from airlines such as American Airlines, Delta, United, JetBlue, Frontier, and more', 'Book your flight + hotel to save up to 100% on your flight.'], ['Find flights to Bangkok on China Southern, Major Airline, Air China and more', 'Fly round-trip from San Francisco from $418, from New York from $438, from San'], ['Flights to Bangkok (BKK, DMK): Search on Orbitz for cheap Bangkok flights, airlines, and airfares to Bangkok.'], ['Cheap Flights to Bangkok, Thailand (BKK) starting at $406 round trip', 'Search hundreds of airlines for the cheapest tickets to Bangkok, Thailand!'], ['Looking for cheap flights to Bangkok, Thailand from your destination', 'Search for airfare and flight ticket deals at cheapflights.com and book your next flight']]\n"
     ]
    }
   ],
   "source": [
    "evaluate_algorithm(\n",
    "    \"Bert\",\n",
    "    extract_keywords_with_bert,\n",
    "    {\n",
    "        \"n_gram\": (1, 3),\n",
    "        \"print_time\": False,\n",
    "        \"model_name\": \"bert-base-nli-stsb-mean-tokens\"\n",
    "    },\n",
    "    print_x=True\n",
    ")"
   ]
  },
  {
   "cell_type": "code",
   "execution_count": 306,
   "metadata": {},
   "outputs": [
    {
     "name": "stdout",
     "output_type": "stream",
     "text": [
      "Finished 0 out of 448\n"
     ]
    },
    {
     "name": "stderr",
     "output_type": "stream",
     "text": [
      "\r",
      "  1%|▏         | 16.1M/1.24G [00:26<07:05, 2.89MB/s]"
     ]
    },
    {
     "name": "stdout",
     "output_type": "stream",
     "text": [
      "[Timer] Bert Function took 102.43539714800136\n"
     ]
    },
    {
     "ename": "KeyboardInterrupt",
     "evalue": "",
     "output_type": "error",
     "traceback": [
      "\u001b[0;31m---------------------------------------------------------------------------\u001b[0m",
      "\u001b[0;31mKeyboardInterrupt\u001b[0m                         Traceback (most recent call last)",
      "\u001b[0;32m<ipython-input-306-43642f0d519a>\u001b[0m in \u001b[0;36m<module>\u001b[0;34m\u001b[0m\n\u001b[0;32m----> 1\u001b[0;31m evaluate_algorithm(\n\u001b[0m\u001b[1;32m      2\u001b[0m     \u001b[0;34m\"Bert\"\u001b[0m\u001b[0;34m,\u001b[0m\u001b[0;34m\u001b[0m\u001b[0;34m\u001b[0m\u001b[0m\n\u001b[1;32m      3\u001b[0m     \u001b[0mextract_keywords_with_bert\u001b[0m\u001b[0;34m,\u001b[0m\u001b[0;34m\u001b[0m\u001b[0;34m\u001b[0m\u001b[0m\n\u001b[1;32m      4\u001b[0m     {\n\u001b[1;32m      5\u001b[0m         \u001b[0;34m\"n_gram\"\u001b[0m\u001b[0;34m:\u001b[0m \u001b[0;34m(\u001b[0m\u001b[0;36m1\u001b[0m\u001b[0;34m,\u001b[0m \u001b[0;36m4\u001b[0m\u001b[0;34m)\u001b[0m\u001b[0;34m,\u001b[0m\u001b[0;34m\u001b[0m\u001b[0;34m\u001b[0m\u001b[0m\n",
      "\u001b[0;32m<ipython-input-271-2ebd3b918848>\u001b[0m in \u001b[0;36mevaluate_algorithm\u001b[0;34m(name, func, arguments, delta, print_x)\u001b[0m\n\u001b[1;32m     14\u001b[0m                 \u001b[0mprint\u001b[0m\u001b[0;34m(\u001b[0m\u001b[0;34m'Finished {} out of {}'\u001b[0m\u001b[0;34m.\u001b[0m\u001b[0mformat\u001b[0m\u001b[0;34m(\u001b[0m\u001b[0mprocess_count\u001b[0m\u001b[0;34m,\u001b[0m \u001b[0mtotal_count\u001b[0m\u001b[0;34m)\u001b[0m\u001b[0;34m)\u001b[0m\u001b[0;34m\u001b[0m\u001b[0;34m\u001b[0m\u001b[0m\n\u001b[1;32m     15\u001b[0m \u001b[0;34m\u001b[0m\u001b[0m\n\u001b[0;32m---> 16\u001b[0;31m             \u001b[0mresult\u001b[0m \u001b[0;34m=\u001b[0m \u001b[0mfunc\u001b[0m\u001b[0;34m(\u001b[0m\u001b[0mx\u001b[0m\u001b[0;34m,\u001b[0m \u001b[0;34m**\u001b[0m\u001b[0marguments\u001b[0m\u001b[0;34m)\u001b[0m\u001b[0;34m\u001b[0m\u001b[0;34m\u001b[0m\u001b[0m\n\u001b[0m\u001b[1;32m     17\u001b[0m             \u001b[0mprocess_count\u001b[0m \u001b[0;34m+=\u001b[0m \u001b[0;36m1\u001b[0m\u001b[0;34m\u001b[0m\u001b[0;34m\u001b[0m\u001b[0m\n\u001b[1;32m     18\u001b[0m \u001b[0;34m\u001b[0m\u001b[0m\n",
      "\u001b[0;32m<ipython-input-107-695cc609b4e4>\u001b[0m in \u001b[0;36mextract_keywords_with_bert\u001b[0;34m(sentences, n_gram, use_stop_words, model_name, print_time)\u001b[0m\n\u001b[1;32m     11\u001b[0m         \u001b[0mcandidates\u001b[0m \u001b[0;34m=\u001b[0m \u001b[0mcount\u001b[0m\u001b[0;34m.\u001b[0m\u001b[0mget_feature_names\u001b[0m\u001b[0;34m(\u001b[0m\u001b[0;34m)\u001b[0m\u001b[0;34m\u001b[0m\u001b[0;34m\u001b[0m\u001b[0m\n\u001b[1;32m     12\u001b[0m \u001b[0;34m\u001b[0m\u001b[0m\n\u001b[0;32m---> 13\u001b[0;31m         \u001b[0mmodel\u001b[0m \u001b[0;34m=\u001b[0m \u001b[0mSentenceTransformer\u001b[0m\u001b[0;34m(\u001b[0m\u001b[0mmodel_name\u001b[0m\u001b[0;34m)\u001b[0m\u001b[0;34m\u001b[0m\u001b[0;34m\u001b[0m\u001b[0m\n\u001b[0m\u001b[1;32m     14\u001b[0m         \u001b[0mdoc_embedding\u001b[0m \u001b[0;34m=\u001b[0m \u001b[0mmodel\u001b[0m\u001b[0;34m.\u001b[0m\u001b[0mencode\u001b[0m\u001b[0;34m(\u001b[0m\u001b[0msentences\u001b[0m\u001b[0;34m,\u001b[0m \u001b[0mconvert_to_tensor\u001b[0m\u001b[0;34m=\u001b[0m\u001b[0;32mTrue\u001b[0m\u001b[0;34m)\u001b[0m\u001b[0;34m\u001b[0m\u001b[0;34m\u001b[0m\u001b[0m\n\u001b[1;32m     15\u001b[0m         \u001b[0mcandidate_embeddings\u001b[0m \u001b[0;34m=\u001b[0m \u001b[0mmodel\u001b[0m\u001b[0;34m.\u001b[0m\u001b[0mencode\u001b[0m\u001b[0;34m(\u001b[0m\u001b[0mcandidates\u001b[0m\u001b[0;34m,\u001b[0m \u001b[0mconvert_to_tensor\u001b[0m\u001b[0;34m=\u001b[0m\u001b[0;32mTrue\u001b[0m\u001b[0;34m)\u001b[0m\u001b[0;34m\u001b[0m\u001b[0;34m\u001b[0m\u001b[0m\n",
      "\u001b[0;32m~/Documents/Coding_Projects/Minerva/backend/py_scripts/env/lib/python3.8/site-packages/sentence_transformers/SentenceTransformer.py\u001b[0m in \u001b[0;36m__init__\u001b[0;34m(self, model_name_or_path, modules, device)\u001b[0m\n\u001b[1;32m    111\u001b[0m                 \u001b[0;32mfor\u001b[0m \u001b[0mmodule_config\u001b[0m \u001b[0;32min\u001b[0m \u001b[0mcontained_modules\u001b[0m\u001b[0;34m:\u001b[0m\u001b[0;34m\u001b[0m\u001b[0;34m\u001b[0m\u001b[0m\n\u001b[1;32m    112\u001b[0m                     \u001b[0mmodule_class\u001b[0m \u001b[0;34m=\u001b[0m \u001b[0mimport_from_string\u001b[0m\u001b[0;34m(\u001b[0m\u001b[0mmodule_config\u001b[0m\u001b[0;34m[\u001b[0m\u001b[0;34m'type'\u001b[0m\u001b[0;34m]\u001b[0m\u001b[0;34m)\u001b[0m\u001b[0;34m\u001b[0m\u001b[0;34m\u001b[0m\u001b[0m\n\u001b[0;32m--> 113\u001b[0;31m                     \u001b[0mmodule\u001b[0m \u001b[0;34m=\u001b[0m \u001b[0mmodule_class\u001b[0m\u001b[0;34m.\u001b[0m\u001b[0mload\u001b[0m\u001b[0;34m(\u001b[0m\u001b[0mos\u001b[0m\u001b[0;34m.\u001b[0m\u001b[0mpath\u001b[0m\u001b[0;34m.\u001b[0m\u001b[0mjoin\u001b[0m\u001b[0;34m(\u001b[0m\u001b[0mmodel_path\u001b[0m\u001b[0;34m,\u001b[0m \u001b[0mmodule_config\u001b[0m\u001b[0;34m[\u001b[0m\u001b[0;34m'path'\u001b[0m\u001b[0;34m]\u001b[0m\u001b[0;34m)\u001b[0m\u001b[0;34m)\u001b[0m\u001b[0;34m\u001b[0m\u001b[0;34m\u001b[0m\u001b[0m\n\u001b[0m\u001b[1;32m    114\u001b[0m                     \u001b[0mmodules\u001b[0m\u001b[0;34m[\u001b[0m\u001b[0mmodule_config\u001b[0m\u001b[0;34m[\u001b[0m\u001b[0;34m'name'\u001b[0m\u001b[0;34m]\u001b[0m\u001b[0;34m]\u001b[0m \u001b[0;34m=\u001b[0m \u001b[0mmodule\u001b[0m\u001b[0;34m\u001b[0m\u001b[0;34m\u001b[0m\u001b[0m\n\u001b[1;32m    115\u001b[0m \u001b[0;34m\u001b[0m\u001b[0m\n",
      "\u001b[0;32m~/Documents/Coding_Projects/Minerva/backend/py_scripts/env/lib/python3.8/site-packages/sentence_transformers/models/Transformer.py\u001b[0m in \u001b[0;36mload\u001b[0;34m(input_path)\u001b[0m\n\u001b[1;32m     99\u001b[0m         \u001b[0;32mwith\u001b[0m \u001b[0mopen\u001b[0m\u001b[0;34m(\u001b[0m\u001b[0msbert_config_path\u001b[0m\u001b[0;34m)\u001b[0m \u001b[0;32mas\u001b[0m \u001b[0mfIn\u001b[0m\u001b[0;34m:\u001b[0m\u001b[0;34m\u001b[0m\u001b[0;34m\u001b[0m\u001b[0m\n\u001b[1;32m    100\u001b[0m             \u001b[0mconfig\u001b[0m \u001b[0;34m=\u001b[0m \u001b[0mjson\u001b[0m\u001b[0;34m.\u001b[0m\u001b[0mload\u001b[0m\u001b[0;34m(\u001b[0m\u001b[0mfIn\u001b[0m\u001b[0;34m)\u001b[0m\u001b[0;34m\u001b[0m\u001b[0;34m\u001b[0m\u001b[0m\n\u001b[0;32m--> 101\u001b[0;31m         \u001b[0;32mreturn\u001b[0m \u001b[0mTransformer\u001b[0m\u001b[0;34m(\u001b[0m\u001b[0mmodel_name_or_path\u001b[0m\u001b[0;34m=\u001b[0m\u001b[0minput_path\u001b[0m\u001b[0;34m,\u001b[0m \u001b[0;34m**\u001b[0m\u001b[0mconfig\u001b[0m\u001b[0;34m)\u001b[0m\u001b[0;34m\u001b[0m\u001b[0;34m\u001b[0m\u001b[0m\n\u001b[0m\u001b[1;32m    102\u001b[0m \u001b[0;34m\u001b[0m\u001b[0m\n\u001b[1;32m    103\u001b[0m \u001b[0;34m\u001b[0m\u001b[0m\n",
      "\u001b[0;32m~/Documents/Coding_Projects/Minerva/backend/py_scripts/env/lib/python3.8/site-packages/sentence_transformers/models/Transformer.py\u001b[0m in \u001b[0;36m__init__\u001b[0;34m(self, model_name_or_path, max_seq_length, model_args, cache_dir, tokenizer_args, do_lower_case)\u001b[0m\n\u001b[1;32m     28\u001b[0m \u001b[0;34m\u001b[0m\u001b[0m\n\u001b[1;32m     29\u001b[0m         \u001b[0mconfig\u001b[0m \u001b[0;34m=\u001b[0m \u001b[0mAutoConfig\u001b[0m\u001b[0;34m.\u001b[0m\u001b[0mfrom_pretrained\u001b[0m\u001b[0;34m(\u001b[0m\u001b[0mmodel_name_or_path\u001b[0m\u001b[0;34m,\u001b[0m \u001b[0;34m**\u001b[0m\u001b[0mmodel_args\u001b[0m\u001b[0;34m,\u001b[0m \u001b[0mcache_dir\u001b[0m\u001b[0;34m=\u001b[0m\u001b[0mcache_dir\u001b[0m\u001b[0;34m)\u001b[0m\u001b[0;34m\u001b[0m\u001b[0;34m\u001b[0m\u001b[0m\n\u001b[0;32m---> 30\u001b[0;31m         \u001b[0mself\u001b[0m\u001b[0;34m.\u001b[0m\u001b[0mauto_model\u001b[0m \u001b[0;34m=\u001b[0m \u001b[0mAutoModel\u001b[0m\u001b[0;34m.\u001b[0m\u001b[0mfrom_pretrained\u001b[0m\u001b[0;34m(\u001b[0m\u001b[0mmodel_name_or_path\u001b[0m\u001b[0;34m,\u001b[0m \u001b[0mconfig\u001b[0m\u001b[0;34m=\u001b[0m\u001b[0mconfig\u001b[0m\u001b[0;34m,\u001b[0m \u001b[0mcache_dir\u001b[0m\u001b[0;34m=\u001b[0m\u001b[0mcache_dir\u001b[0m\u001b[0;34m)\u001b[0m\u001b[0;34m\u001b[0m\u001b[0;34m\u001b[0m\u001b[0m\n\u001b[0m\u001b[1;32m     31\u001b[0m         \u001b[0mself\u001b[0m\u001b[0;34m.\u001b[0m\u001b[0mtokenizer\u001b[0m \u001b[0;34m=\u001b[0m \u001b[0mAutoTokenizer\u001b[0m\u001b[0;34m.\u001b[0m\u001b[0mfrom_pretrained\u001b[0m\u001b[0;34m(\u001b[0m\u001b[0mmodel_name_or_path\u001b[0m\u001b[0;34m,\u001b[0m \u001b[0mcache_dir\u001b[0m\u001b[0;34m=\u001b[0m\u001b[0mcache_dir\u001b[0m\u001b[0;34m,\u001b[0m \u001b[0;34m**\u001b[0m\u001b[0mtokenizer_args\u001b[0m\u001b[0;34m)\u001b[0m\u001b[0;34m\u001b[0m\u001b[0;34m\u001b[0m\u001b[0m\n\u001b[1;32m     32\u001b[0m \u001b[0;34m\u001b[0m\u001b[0m\n",
      "\u001b[0;32m~/Documents/Coding_Projects/Minerva/backend/py_scripts/env/lib/python3.8/site-packages/transformers/modeling_auto.py\u001b[0m in \u001b[0;36mfrom_pretrained\u001b[0;34m(cls, pretrained_model_name_or_path, *model_args, **kwargs)\u001b[0m\n\u001b[1;32m    586\u001b[0m \u001b[0;34m\u001b[0m\u001b[0m\n\u001b[1;32m    587\u001b[0m         \u001b[0;32mif\u001b[0m \u001b[0mtype\u001b[0m\u001b[0;34m(\u001b[0m\u001b[0mconfig\u001b[0m\u001b[0;34m)\u001b[0m \u001b[0;32min\u001b[0m \u001b[0mMODEL_MAPPING\u001b[0m\u001b[0;34m.\u001b[0m\u001b[0mkeys\u001b[0m\u001b[0;34m(\u001b[0m\u001b[0;34m)\u001b[0m\u001b[0;34m:\u001b[0m\u001b[0;34m\u001b[0m\u001b[0;34m\u001b[0m\u001b[0m\n\u001b[0;32m--> 588\u001b[0;31m             return MODEL_MAPPING[type(config)].from_pretrained(\n\u001b[0m\u001b[1;32m    589\u001b[0m                 \u001b[0mpretrained_model_name_or_path\u001b[0m\u001b[0;34m,\u001b[0m \u001b[0;34m*\u001b[0m\u001b[0mmodel_args\u001b[0m\u001b[0;34m,\u001b[0m \u001b[0mconfig\u001b[0m\u001b[0;34m=\u001b[0m\u001b[0mconfig\u001b[0m\u001b[0;34m,\u001b[0m \u001b[0;34m**\u001b[0m\u001b[0mkwargs\u001b[0m\u001b[0;34m\u001b[0m\u001b[0;34m\u001b[0m\u001b[0m\n\u001b[1;32m    590\u001b[0m             )\n",
      "\u001b[0;32m~/Documents/Coding_Projects/Minerva/backend/py_scripts/env/lib/python3.8/site-packages/transformers/modeling_utils.py\u001b[0m in \u001b[0;36mfrom_pretrained\u001b[0;34m(cls, pretrained_model_name_or_path, *model_args, **kwargs)\u001b[0m\n\u001b[1;32m    921\u001b[0m \u001b[0;34m\u001b[0m\u001b[0m\n\u001b[1;32m    922\u001b[0m         \u001b[0;31m# Instantiate model.\u001b[0m\u001b[0;34m\u001b[0m\u001b[0;34m\u001b[0m\u001b[0;34m\u001b[0m\u001b[0m\n\u001b[0;32m--> 923\u001b[0;31m         \u001b[0mmodel\u001b[0m \u001b[0;34m=\u001b[0m \u001b[0mcls\u001b[0m\u001b[0;34m(\u001b[0m\u001b[0mconfig\u001b[0m\u001b[0;34m,\u001b[0m \u001b[0;34m*\u001b[0m\u001b[0mmodel_args\u001b[0m\u001b[0;34m,\u001b[0m \u001b[0;34m**\u001b[0m\u001b[0mmodel_kwargs\u001b[0m\u001b[0;34m)\u001b[0m\u001b[0;34m\u001b[0m\u001b[0;34m\u001b[0m\u001b[0m\n\u001b[0m\u001b[1;32m    924\u001b[0m \u001b[0;34m\u001b[0m\u001b[0m\n\u001b[1;32m    925\u001b[0m         \u001b[0;32mif\u001b[0m \u001b[0mstate_dict\u001b[0m \u001b[0;32mis\u001b[0m \u001b[0;32mNone\u001b[0m \u001b[0;32mand\u001b[0m \u001b[0;32mnot\u001b[0m \u001b[0mfrom_tf\u001b[0m\u001b[0;34m:\u001b[0m\u001b[0;34m\u001b[0m\u001b[0;34m\u001b[0m\u001b[0m\n",
      "\u001b[0;32m~/Documents/Coding_Projects/Minerva/backend/py_scripts/env/lib/python3.8/site-packages/transformers/modeling_bert.py\u001b[0m in \u001b[0;36m__init__\u001b[0;34m(self, config, add_pooling_layer)\u001b[0m\n\u001b[1;32m    735\u001b[0m         \u001b[0mself\u001b[0m\u001b[0;34m.\u001b[0m\u001b[0mpooler\u001b[0m \u001b[0;34m=\u001b[0m \u001b[0mBertPooler\u001b[0m\u001b[0;34m(\u001b[0m\u001b[0mconfig\u001b[0m\u001b[0;34m)\u001b[0m \u001b[0;32mif\u001b[0m \u001b[0madd_pooling_layer\u001b[0m \u001b[0;32melse\u001b[0m \u001b[0;32mNone\u001b[0m\u001b[0;34m\u001b[0m\u001b[0;34m\u001b[0m\u001b[0m\n\u001b[1;32m    736\u001b[0m \u001b[0;34m\u001b[0m\u001b[0m\n\u001b[0;32m--> 737\u001b[0;31m         \u001b[0mself\u001b[0m\u001b[0;34m.\u001b[0m\u001b[0minit_weights\u001b[0m\u001b[0;34m(\u001b[0m\u001b[0;34m)\u001b[0m\u001b[0;34m\u001b[0m\u001b[0;34m\u001b[0m\u001b[0m\n\u001b[0m\u001b[1;32m    738\u001b[0m \u001b[0;34m\u001b[0m\u001b[0m\n\u001b[1;32m    739\u001b[0m     \u001b[0;32mdef\u001b[0m \u001b[0mget_input_embeddings\u001b[0m\u001b[0;34m(\u001b[0m\u001b[0mself\u001b[0m\u001b[0;34m)\u001b[0m\u001b[0;34m:\u001b[0m\u001b[0;34m\u001b[0m\u001b[0;34m\u001b[0m\u001b[0m\n",
      "\u001b[0;32m~/Documents/Coding_Projects/Minerva/backend/py_scripts/env/lib/python3.8/site-packages/transformers/modeling_utils.py\u001b[0m in \u001b[0;36minit_weights\u001b[0;34m(self)\u001b[0m\n\u001b[1;32m    648\u001b[0m         \"\"\"\n\u001b[1;32m    649\u001b[0m         \u001b[0;31m# Initialize weights\u001b[0m\u001b[0;34m\u001b[0m\u001b[0;34m\u001b[0m\u001b[0;34m\u001b[0m\u001b[0m\n\u001b[0;32m--> 650\u001b[0;31m         \u001b[0mself\u001b[0m\u001b[0;34m.\u001b[0m\u001b[0mapply\u001b[0m\u001b[0;34m(\u001b[0m\u001b[0mself\u001b[0m\u001b[0;34m.\u001b[0m\u001b[0m_init_weights\u001b[0m\u001b[0;34m)\u001b[0m\u001b[0;34m\u001b[0m\u001b[0;34m\u001b[0m\u001b[0m\n\u001b[0m\u001b[1;32m    651\u001b[0m \u001b[0;34m\u001b[0m\u001b[0m\n\u001b[1;32m    652\u001b[0m         \u001b[0;31m# Prune heads if needed\u001b[0m\u001b[0;34m\u001b[0m\u001b[0;34m\u001b[0m\u001b[0;34m\u001b[0m\u001b[0m\n",
      "\u001b[0;32m~/Documents/Coding_Projects/Minerva/backend/py_scripts/env/lib/python3.8/site-packages/torch/nn/modules/module.py\u001b[0m in \u001b[0;36mapply\u001b[0;34m(self, fn)\u001b[0m\n\u001b[1;32m    443\u001b[0m         \"\"\"\n\u001b[1;32m    444\u001b[0m         \u001b[0;32mfor\u001b[0m \u001b[0mmodule\u001b[0m \u001b[0;32min\u001b[0m \u001b[0mself\u001b[0m\u001b[0;34m.\u001b[0m\u001b[0mchildren\u001b[0m\u001b[0;34m(\u001b[0m\u001b[0;34m)\u001b[0m\u001b[0;34m:\u001b[0m\u001b[0;34m\u001b[0m\u001b[0;34m\u001b[0m\u001b[0m\n\u001b[0;32m--> 445\u001b[0;31m             \u001b[0mmodule\u001b[0m\u001b[0;34m.\u001b[0m\u001b[0mapply\u001b[0m\u001b[0;34m(\u001b[0m\u001b[0mfn\u001b[0m\u001b[0;34m)\u001b[0m\u001b[0;34m\u001b[0m\u001b[0;34m\u001b[0m\u001b[0m\n\u001b[0m\u001b[1;32m    446\u001b[0m         \u001b[0mfn\u001b[0m\u001b[0;34m(\u001b[0m\u001b[0mself\u001b[0m\u001b[0;34m)\u001b[0m\u001b[0;34m\u001b[0m\u001b[0;34m\u001b[0m\u001b[0m\n\u001b[1;32m    447\u001b[0m         \u001b[0;32mreturn\u001b[0m \u001b[0mself\u001b[0m\u001b[0;34m\u001b[0m\u001b[0;34m\u001b[0m\u001b[0m\n",
      "\u001b[0;32m~/Documents/Coding_Projects/Minerva/backend/py_scripts/env/lib/python3.8/site-packages/torch/nn/modules/module.py\u001b[0m in \u001b[0;36mapply\u001b[0;34m(self, fn)\u001b[0m\n\u001b[1;32m    443\u001b[0m         \"\"\"\n\u001b[1;32m    444\u001b[0m         \u001b[0;32mfor\u001b[0m \u001b[0mmodule\u001b[0m \u001b[0;32min\u001b[0m \u001b[0mself\u001b[0m\u001b[0;34m.\u001b[0m\u001b[0mchildren\u001b[0m\u001b[0;34m(\u001b[0m\u001b[0;34m)\u001b[0m\u001b[0;34m:\u001b[0m\u001b[0;34m\u001b[0m\u001b[0;34m\u001b[0m\u001b[0m\n\u001b[0;32m--> 445\u001b[0;31m             \u001b[0mmodule\u001b[0m\u001b[0;34m.\u001b[0m\u001b[0mapply\u001b[0m\u001b[0;34m(\u001b[0m\u001b[0mfn\u001b[0m\u001b[0;34m)\u001b[0m\u001b[0;34m\u001b[0m\u001b[0;34m\u001b[0m\u001b[0m\n\u001b[0m\u001b[1;32m    446\u001b[0m         \u001b[0mfn\u001b[0m\u001b[0;34m(\u001b[0m\u001b[0mself\u001b[0m\u001b[0;34m)\u001b[0m\u001b[0;34m\u001b[0m\u001b[0;34m\u001b[0m\u001b[0m\n\u001b[1;32m    447\u001b[0m         \u001b[0;32mreturn\u001b[0m \u001b[0mself\u001b[0m\u001b[0;34m\u001b[0m\u001b[0;34m\u001b[0m\u001b[0m\n",
      "\u001b[0;32m~/Documents/Coding_Projects/Minerva/backend/py_scripts/env/lib/python3.8/site-packages/torch/nn/modules/module.py\u001b[0m in \u001b[0;36mapply\u001b[0;34m(self, fn)\u001b[0m\n\u001b[1;32m    443\u001b[0m         \"\"\"\n\u001b[1;32m    444\u001b[0m         \u001b[0;32mfor\u001b[0m \u001b[0mmodule\u001b[0m \u001b[0;32min\u001b[0m \u001b[0mself\u001b[0m\u001b[0;34m.\u001b[0m\u001b[0mchildren\u001b[0m\u001b[0;34m(\u001b[0m\u001b[0;34m)\u001b[0m\u001b[0;34m:\u001b[0m\u001b[0;34m\u001b[0m\u001b[0;34m\u001b[0m\u001b[0m\n\u001b[0;32m--> 445\u001b[0;31m             \u001b[0mmodule\u001b[0m\u001b[0;34m.\u001b[0m\u001b[0mapply\u001b[0m\u001b[0;34m(\u001b[0m\u001b[0mfn\u001b[0m\u001b[0;34m)\u001b[0m\u001b[0;34m\u001b[0m\u001b[0;34m\u001b[0m\u001b[0m\n\u001b[0m\u001b[1;32m    446\u001b[0m         \u001b[0mfn\u001b[0m\u001b[0;34m(\u001b[0m\u001b[0mself\u001b[0m\u001b[0;34m)\u001b[0m\u001b[0;34m\u001b[0m\u001b[0;34m\u001b[0m\u001b[0m\n\u001b[1;32m    447\u001b[0m         \u001b[0;32mreturn\u001b[0m \u001b[0mself\u001b[0m\u001b[0;34m\u001b[0m\u001b[0;34m\u001b[0m\u001b[0m\n",
      "\u001b[0;32m~/Documents/Coding_Projects/Minerva/backend/py_scripts/env/lib/python3.8/site-packages/torch/nn/modules/module.py\u001b[0m in \u001b[0;36mapply\u001b[0;34m(self, fn)\u001b[0m\n\u001b[1;32m    443\u001b[0m         \"\"\"\n\u001b[1;32m    444\u001b[0m         \u001b[0;32mfor\u001b[0m \u001b[0mmodule\u001b[0m \u001b[0;32min\u001b[0m \u001b[0mself\u001b[0m\u001b[0;34m.\u001b[0m\u001b[0mchildren\u001b[0m\u001b[0;34m(\u001b[0m\u001b[0;34m)\u001b[0m\u001b[0;34m:\u001b[0m\u001b[0;34m\u001b[0m\u001b[0;34m\u001b[0m\u001b[0m\n\u001b[0;32m--> 445\u001b[0;31m             \u001b[0mmodule\u001b[0m\u001b[0;34m.\u001b[0m\u001b[0mapply\u001b[0m\u001b[0;34m(\u001b[0m\u001b[0mfn\u001b[0m\u001b[0;34m)\u001b[0m\u001b[0;34m\u001b[0m\u001b[0;34m\u001b[0m\u001b[0m\n\u001b[0m\u001b[1;32m    446\u001b[0m         \u001b[0mfn\u001b[0m\u001b[0;34m(\u001b[0m\u001b[0mself\u001b[0m\u001b[0;34m)\u001b[0m\u001b[0;34m\u001b[0m\u001b[0;34m\u001b[0m\u001b[0m\n\u001b[1;32m    447\u001b[0m         \u001b[0;32mreturn\u001b[0m \u001b[0mself\u001b[0m\u001b[0;34m\u001b[0m\u001b[0;34m\u001b[0m\u001b[0m\n",
      "\u001b[0;32m~/Documents/Coding_Projects/Minerva/backend/py_scripts/env/lib/python3.8/site-packages/torch/nn/modules/module.py\u001b[0m in \u001b[0;36mapply\u001b[0;34m(self, fn)\u001b[0m\n\u001b[1;32m    443\u001b[0m         \"\"\"\n\u001b[1;32m    444\u001b[0m         \u001b[0;32mfor\u001b[0m \u001b[0mmodule\u001b[0m \u001b[0;32min\u001b[0m \u001b[0mself\u001b[0m\u001b[0;34m.\u001b[0m\u001b[0mchildren\u001b[0m\u001b[0;34m(\u001b[0m\u001b[0;34m)\u001b[0m\u001b[0;34m:\u001b[0m\u001b[0;34m\u001b[0m\u001b[0;34m\u001b[0m\u001b[0m\n\u001b[0;32m--> 445\u001b[0;31m             \u001b[0mmodule\u001b[0m\u001b[0;34m.\u001b[0m\u001b[0mapply\u001b[0m\u001b[0;34m(\u001b[0m\u001b[0mfn\u001b[0m\u001b[0;34m)\u001b[0m\u001b[0;34m\u001b[0m\u001b[0;34m\u001b[0m\u001b[0m\n\u001b[0m\u001b[1;32m    446\u001b[0m         \u001b[0mfn\u001b[0m\u001b[0;34m(\u001b[0m\u001b[0mself\u001b[0m\u001b[0;34m)\u001b[0m\u001b[0;34m\u001b[0m\u001b[0;34m\u001b[0m\u001b[0m\n\u001b[1;32m    447\u001b[0m         \u001b[0;32mreturn\u001b[0m \u001b[0mself\u001b[0m\u001b[0;34m\u001b[0m\u001b[0;34m\u001b[0m\u001b[0m\n",
      "\u001b[0;32m~/Documents/Coding_Projects/Minerva/backend/py_scripts/env/lib/python3.8/site-packages/torch/nn/modules/module.py\u001b[0m in \u001b[0;36mapply\u001b[0;34m(self, fn)\u001b[0m\n\u001b[1;32m    443\u001b[0m         \"\"\"\n\u001b[1;32m    444\u001b[0m         \u001b[0;32mfor\u001b[0m \u001b[0mmodule\u001b[0m \u001b[0;32min\u001b[0m \u001b[0mself\u001b[0m\u001b[0;34m.\u001b[0m\u001b[0mchildren\u001b[0m\u001b[0;34m(\u001b[0m\u001b[0;34m)\u001b[0m\u001b[0;34m:\u001b[0m\u001b[0;34m\u001b[0m\u001b[0;34m\u001b[0m\u001b[0m\n\u001b[0;32m--> 445\u001b[0;31m             \u001b[0mmodule\u001b[0m\u001b[0;34m.\u001b[0m\u001b[0mapply\u001b[0m\u001b[0;34m(\u001b[0m\u001b[0mfn\u001b[0m\u001b[0;34m)\u001b[0m\u001b[0;34m\u001b[0m\u001b[0;34m\u001b[0m\u001b[0m\n\u001b[0m\u001b[1;32m    446\u001b[0m         \u001b[0mfn\u001b[0m\u001b[0;34m(\u001b[0m\u001b[0mself\u001b[0m\u001b[0;34m)\u001b[0m\u001b[0;34m\u001b[0m\u001b[0;34m\u001b[0m\u001b[0m\n\u001b[1;32m    447\u001b[0m         \u001b[0;32mreturn\u001b[0m \u001b[0mself\u001b[0m\u001b[0;34m\u001b[0m\u001b[0;34m\u001b[0m\u001b[0m\n",
      "\u001b[0;32m~/Documents/Coding_Projects/Minerva/backend/py_scripts/env/lib/python3.8/site-packages/torch/nn/modules/module.py\u001b[0m in \u001b[0;36mapply\u001b[0;34m(self, fn)\u001b[0m\n\u001b[1;32m    444\u001b[0m         \u001b[0;32mfor\u001b[0m \u001b[0mmodule\u001b[0m \u001b[0;32min\u001b[0m \u001b[0mself\u001b[0m\u001b[0;34m.\u001b[0m\u001b[0mchildren\u001b[0m\u001b[0;34m(\u001b[0m\u001b[0;34m)\u001b[0m\u001b[0;34m:\u001b[0m\u001b[0;34m\u001b[0m\u001b[0;34m\u001b[0m\u001b[0m\n\u001b[1;32m    445\u001b[0m             \u001b[0mmodule\u001b[0m\u001b[0;34m.\u001b[0m\u001b[0mapply\u001b[0m\u001b[0;34m(\u001b[0m\u001b[0mfn\u001b[0m\u001b[0;34m)\u001b[0m\u001b[0;34m\u001b[0m\u001b[0;34m\u001b[0m\u001b[0m\n\u001b[0;32m--> 446\u001b[0;31m         \u001b[0mfn\u001b[0m\u001b[0;34m(\u001b[0m\u001b[0mself\u001b[0m\u001b[0;34m)\u001b[0m\u001b[0;34m\u001b[0m\u001b[0;34m\u001b[0m\u001b[0m\n\u001b[0m\u001b[1;32m    447\u001b[0m         \u001b[0;32mreturn\u001b[0m \u001b[0mself\u001b[0m\u001b[0;34m\u001b[0m\u001b[0;34m\u001b[0m\u001b[0m\n\u001b[1;32m    448\u001b[0m \u001b[0;34m\u001b[0m\u001b[0m\n",
      "\u001b[0;32m~/Documents/Coding_Projects/Minerva/backend/py_scripts/env/lib/python3.8/site-packages/transformers/modeling_bert.py\u001b[0m in \u001b[0;36m_init_weights\u001b[0;34m(self, module)\u001b[0m\n\u001b[1;32m    595\u001b[0m             \u001b[0;31m# Slightly different from the TF version which uses truncated_normal for initialization\u001b[0m\u001b[0;34m\u001b[0m\u001b[0;34m\u001b[0m\u001b[0;34m\u001b[0m\u001b[0m\n\u001b[1;32m    596\u001b[0m             \u001b[0;31m# cf https://github.com/pytorch/pytorch/pull/5617\u001b[0m\u001b[0;34m\u001b[0m\u001b[0;34m\u001b[0m\u001b[0;34m\u001b[0m\u001b[0m\n\u001b[0;32m--> 597\u001b[0;31m             \u001b[0mmodule\u001b[0m\u001b[0;34m.\u001b[0m\u001b[0mweight\u001b[0m\u001b[0;34m.\u001b[0m\u001b[0mdata\u001b[0m\u001b[0;34m.\u001b[0m\u001b[0mnormal_\u001b[0m\u001b[0;34m(\u001b[0m\u001b[0mmean\u001b[0m\u001b[0;34m=\u001b[0m\u001b[0;36m0.0\u001b[0m\u001b[0;34m,\u001b[0m \u001b[0mstd\u001b[0m\u001b[0;34m=\u001b[0m\u001b[0mself\u001b[0m\u001b[0;34m.\u001b[0m\u001b[0mconfig\u001b[0m\u001b[0;34m.\u001b[0m\u001b[0minitializer_range\u001b[0m\u001b[0;34m)\u001b[0m\u001b[0;34m\u001b[0m\u001b[0;34m\u001b[0m\u001b[0m\n\u001b[0m\u001b[1;32m    598\u001b[0m         \u001b[0;32melif\u001b[0m \u001b[0misinstance\u001b[0m\u001b[0;34m(\u001b[0m\u001b[0mmodule\u001b[0m\u001b[0;34m,\u001b[0m \u001b[0mnn\u001b[0m\u001b[0;34m.\u001b[0m\u001b[0mLayerNorm\u001b[0m\u001b[0;34m)\u001b[0m\u001b[0;34m:\u001b[0m\u001b[0;34m\u001b[0m\u001b[0;34m\u001b[0m\u001b[0m\n\u001b[1;32m    599\u001b[0m             \u001b[0mmodule\u001b[0m\u001b[0;34m.\u001b[0m\u001b[0mbias\u001b[0m\u001b[0;34m.\u001b[0m\u001b[0mdata\u001b[0m\u001b[0;34m.\u001b[0m\u001b[0mzero_\u001b[0m\u001b[0;34m(\u001b[0m\u001b[0;34m)\u001b[0m\u001b[0;34m\u001b[0m\u001b[0;34m\u001b[0m\u001b[0m\n",
      "\u001b[0;31mKeyboardInterrupt\u001b[0m: "
     ]
    }
   ],
   "source": [
    "evaluate_algorithm(\n",
    "    \"Bert\",\n",
    "    extract_keywords_with_bert,\n",
    "    {\n",
    "        \"n_gram\": (1, 4),\n",
    "        \"print_time\": False,\n",
    "        \"model_name\": \"bert-base-nli-stsb-mean-tokens\"\n",
    "    },\n",
    "    print_x=True\n",
    ")"
   ]
  },
  {
   "cell_type": "markdown",
   "metadata": {},
   "source": [
    "### distilroberta-base-paraphrase-v1"
   ]
  },
  {
   "cell_type": "code",
   "execution_count": 295,
   "metadata": {},
   "outputs": [
    {
     "name": "stdout",
     "output_type": "stream",
     "text": [
      "Finished 0 out of 448\n",
      "Finished 50 out of 448\n",
      "Finished 100 out of 448\n",
      "Finished 150 out of 448\n",
      "Finished 200 out of 448\n",
      "Finished 250 out of 448\n",
      "Finished 300 out of 448\n",
      "Finished 350 out of 448\n",
      "Finished 400 out of 448\n",
      "[Timer] Bert Function took 780.7040364599961\n",
      "\n",
      "\n",
      "Result\n",
      "Accuracy 0.6875\n",
      "\n",
      "Wrong examples.\n",
      "[\"['hong kong hkg', 'deals hong kong', 'great deals hong', 'fly hong kong', 'kong hkg flights'] ------- flights to hong kong\", \"['15', '2019', 'aug 15', '15 2019', 'aug 15 2019'] ------- flights to hong kong\", \"['15', '2019', 'aug 15', '15 2019', 'aug 15 2019'] ------- flights to hong kong\", \"['15', '2019', 'aug 15', '15 2019', 'aug 15 2019'] ------- flights to hong kong\", \"['15', '2019', 'aug 15', '15 2019', 'aug 15 2019'] ------- flights to hong kong\", \"['15', '2019', 'aug 15', '15 2019', 'aug 15 2019'] ------- flights to hong kong\", \"['kong intl hkg', 'cheap flights', 'flights hong kong', 'skyscanner flight comparison', 'cheap flights hong'] ------- flights to hong kong\", \"['kong intl hkg', 'cheap flights', 'flights hong kong', 'skyscanner flight comparison', 'cheap flights hong'] ------- flights to hong kong\", \"['14', 'aug 14', '2019', '14 2019', 'aug 14 2019'] ------- flights to hong kong\", \"['14', 'aug 14', '2019', '14 2019', 'aug 14 2019'] ------- flights to hong kong\"]\n",
      "\n",
      "Right examples.\n",
      "[\"['trip hong kong', 'flights hong kong', 'cheap flights hong', 'book cheap flights', 'flights trip hong'] ------- flights to hong kong\", \"['kong hong kong', 'flights hong kong', 'kong airlines', 'hong kong airlines', 'kong airlines xiamenair'] ------- flights to hong kong\", \"['hong kong hkg', 'deals hong kong', 'great deals hong', 'fly hong kong', 'kong hkg flights'] ------- flights to hong kong\", \"['flights hong kong', 'sar airlines american', 'sar airlines', 'airlines american airlines', 'kong sar airlines'] ------- flights to hong kong\", \"['kong intl hkg', 'cheap flights', 'flights hong kong', 'skyscanner flight comparison', 'cheap flights hong'] ------- flights to hong kong\", \"['kong', 'cheap flights hong', 'flights hong kong', 'hong kong', 'hong kong destination'] ------- flights to hong kong\", \"['flights bangkok search', 'bangkok search compare', 'book cheap flights', 'flights trip bangkok', 'cheap flights bangkok'] ------- flights to bangkok\", \"['bangkok china', 'bangkok china southern', 'southern major airline', 'flights bangkok china', 'flights bangkok'] ------- flights to bangkok\", \"['bangkok', 'flights bangkok', 'day flights', 'labor day flights', 'day flights bangkok'] ------- flights to bangkok\", \"['flights bangkok', 'bangkok thailand bkk', 'flights bangkok thailand', 'cheapest tickets bangkok', 'cheap flights bangkok'] ------- flights to bangkok\"]\n",
      "\n",
      "[['Find & book great deals on Hong Kong (HKG) Flights', 'Fly to Hong Kong with Cathay Pacific and experience award-winning service.'], ['Aug 15, 2019 ..', 'Flights are resuming after protesters clashed with police last night at the Hong Kong airport', 'Follow here for the latest.'], ['Aug 15, 2019 ..', 'Flights are resuming after protesters clashed with police last night at the Hong Kong airport', 'Follow here for the latest.'], ['Aug 15, 2019 ..', 'Flights are resuming after protesters clashed with police last night at the Hong Kong airport', 'Follow here for the latest.'], ['Aug 15, 2019 ..', 'Flights are resuming after protesters clashed with police last night at the Hong Kong airport', 'Follow here for the latest.'], ['Aug 15, 2019 ..', 'Flights are resuming after protesters clashed with police last night at the Hong Kong airport', 'Follow here for the latest.'], [\"Find cheap flights to Hong Kong Intl (HKG) in 2019 using Skyscanner's flight comparison tool\", 'We compare all major airlines and travel agents for flights to Hong'], [\"Find cheap flights to Hong Kong Intl (HKG) in 2019 using Skyscanner's flight comparison tool\", 'We compare all major airlines and travel agents for flights to Hong'], ['Aug 14, 2019 ..', \"HONG KONG (AP) — Flights resumed Wednesday at Hong Kong's airport after two days of disruptions that descended into clashes with police,\"], ['Aug 14, 2019 ..', \"HONG KONG (AP) — Flights resumed Wednesday at Hong Kong's airport after two days of disruptions that descended into clashes with police,\"]]\n",
      "\n",
      "[['Book Cheap Flights to Hong Kong: Search and compare airfares on TripAdvisor to find the best flights for your trip to Hong Kong', 'Choose the best airline for you'], ['Find flights to Hong Kong on Hong Kong Airlines, XiamenAir, Air China and more', 'Fly round-trip from San Francisco from $344, from New York from $434, from'], ['Find & book great deals on Hong Kong (HKG) Flights', 'Fly to Hong Kong with Cathay Pacific and experience award-winning service.'], ['Flights to Hong Kong SAR from airlines such as American Airlines, Delta, United, JetBlue, Frontier, and more', 'Book your flight + hotel to save up to 100% on your'], [\"Find cheap flights to Hong Kong Intl (HKG) in 2019 using Skyscanner's flight comparison tool\", 'We compare all major airlines and travel agents for flights to Hong'], ['Looking for cheap flights to Hong Kong from your destination', 'Search for airfare and flight ticket deals at cheapflights.com and book your next flight today.'], ['Book Cheap Flights to Bangkok: Search and compare airfares on TripAdvisor to find the best flights for your trip to Bangkok', 'Choose the best airline for you by'], ['Find flights to Bangkok on China Southern, Major Airline, Air China and more', 'Fly round-trip from San Francisco from $418, from New York from $438, from San'], ['Looking for cheap Labor Day flights to Bangkok', 'Compare prices from hundreds of major airlines Delta, United, American, etc', '& travel agencies for cheap'], ['Cheap Flights to Bangkok, Thailand (BKK) starting at $406 round trip', 'Search hundreds of airlines for the cheapest tickets to Bangkok, Thailand!']]\n"
     ]
    }
   ],
   "source": [
    "evaluate_algorithm(\n",
    "    \"Bert\",\n",
    "    extract_keywords_with_bert,\n",
    "    {\n",
    "        \"n_gram\": (1, 3),\n",
    "        \"print_time\": False,\n",
    "        \"model_name\": \"distilroberta-base-paraphrase-v1\"\n",
    "    },\n",
    "    print_x=True\n",
    ")"
   ]
  },
  {
   "cell_type": "code",
   "execution_count": 296,
   "metadata": {},
   "outputs": [
    {
     "name": "stdout",
     "output_type": "stream",
     "text": [
      "Finished 0 out of 448\n",
      "Finished 50 out of 448\n",
      "Finished 100 out of 448\n",
      "Finished 150 out of 448\n",
      "Finished 200 out of 448\n",
      "Finished 250 out of 448\n",
      "Finished 300 out of 448\n",
      "Finished 350 out of 448\n",
      "Finished 400 out of 448\n",
      "[Timer] Bert Function took 781.082566549012\n",
      "\n",
      "\n",
      "Result\n",
      "Accuracy 0.921875\n",
      "\n",
      "Wrong examples.\n",
      "[\"['15', '2019', 'aug 15', '15 2019', 'aug 15 2019'] ------- flights to hong kong\", \"['15', '2019', 'aug 15', '15 2019', 'aug 15 2019'] ------- flights to hong kong\", \"['15', '2019', 'aug 15', '15 2019', 'aug 15 2019'] ------- flights to hong kong\", \"['15', '2019', 'aug 15', '15 2019', 'aug 15 2019'] ------- flights to hong kong\", \"['15', '2019', 'aug 15', '15 2019', 'aug 15 2019'] ------- flights to hong kong\", \"['14', 'aug 14', '2019', '14 2019', 'aug 14 2019'] ------- flights to hong kong\", \"['14', 'aug 14', '2019', '14 2019', 'aug 14 2019'] ------- flights to hong kong\", \"['14', 'aug 14', '2019', '14 2019', 'aug 14 2019'] ------- flights to hong kong\", \"['14', 'aug 14', '2019', '14 2019', 'aug 14 2019'] ------- flights to hong kong\", \"['14', 'aug 14', '2019', '14 2019', 'aug 14 2019'] ------- flights to hong kong\"]\n",
      "\n",
      "Right examples.\n",
      "[\"['trip hong kong', 'flights hong kong', 'cheap flights hong', 'book cheap flights', 'flights trip hong'] ------- flights to hong kong\", \"['kong hong kong', 'flights hong kong', 'kong airlines', 'hong kong airlines', 'kong airlines xiamenair'] ------- flights to hong kong\", \"['hong kong hkg', 'deals hong kong', 'great deals hong', 'fly hong kong', 'kong hkg flights'] ------- flights to hong kong\", \"['flights hong kong', 'sar airlines american', 'sar airlines', 'airlines american airlines', 'kong sar airlines'] ------- flights to hong kong\", \"['kong intl hkg', 'cheap flights', 'flights hong kong', 'skyscanner flight comparison', 'cheap flights hong'] ------- flights to hong kong\", \"['kong', 'cheap flights hong', 'flights hong kong', 'hong kong', 'hong kong destination'] ------- flights to hong kong\", \"['flights bangkok search', 'bangkok search compare', 'book cheap flights', 'flights trip bangkok', 'cheap flights bangkok'] ------- flights to bangkok\", \"['american airlines', 'airlines american airlines', 'bangkok airlines', 'bangkok airlines american', 'flights bangkok airlines'] ------- flights to bangkok\", \"['bangkok china', 'bangkok china southern', 'southern major airline', 'flights bangkok china', 'flights bangkok'] ------- flights to bangkok\", \"['airlines airfares bangkok', 'orbitz cheap bangkok', 'bangkok flights airlines', 'cheap bangkok flights', 'bangkok flights'] ------- flights to bangkok\"]\n",
      "\n",
      "[['Aug 15, 2019 ..', 'Flights are resuming after protesters clashed with police last night at the Hong Kong airport', 'Follow here for the latest.'], ['Aug 15, 2019 ..', 'Flights are resuming after protesters clashed with police last night at the Hong Kong airport', 'Follow here for the latest.'], ['Aug 15, 2019 ..', 'Flights are resuming after protesters clashed with police last night at the Hong Kong airport', 'Follow here for the latest.'], ['Aug 15, 2019 ..', 'Flights are resuming after protesters clashed with police last night at the Hong Kong airport', 'Follow here for the latest.'], ['Aug 15, 2019 ..', 'Flights are resuming after protesters clashed with police last night at the Hong Kong airport', 'Follow here for the latest.'], ['Aug 14, 2019 ..', \"HONG KONG (AP) — Flights resumed Wednesday at Hong Kong's airport after two days of disruptions that descended into clashes with police,\"], ['Aug 14, 2019 ..', \"HONG KONG (AP) — Flights resumed Wednesday at Hong Kong's airport after two days of disruptions that descended into clashes with police,\"], ['Aug 14, 2019 ..', \"HONG KONG (AP) — Flights resumed Wednesday at Hong Kong's airport after two days of disruptions that descended into clashes with police,\"], ['Aug 14, 2019 ..', \"HONG KONG (AP) — Flights resumed Wednesday at Hong Kong's airport after two days of disruptions that descended into clashes with police,\"], ['Aug 14, 2019 ..', \"HONG KONG (AP) — Flights resumed Wednesday at Hong Kong's airport after two days of disruptions that descended into clashes with police,\"]]\n",
      "\n",
      "[['Book Cheap Flights to Hong Kong: Search and compare airfares on TripAdvisor to find the best flights for your trip to Hong Kong', 'Choose the best airline for you'], ['Find flights to Hong Kong on Hong Kong Airlines, XiamenAir, Air China and more', 'Fly round-trip from San Francisco from $344, from New York from $434, from'], ['Find & book great deals on Hong Kong (HKG) Flights', 'Fly to Hong Kong with Cathay Pacific and experience award-winning service.'], ['Flights to Hong Kong SAR from airlines such as American Airlines, Delta, United, JetBlue, Frontier, and more', 'Book your flight + hotel to save up to 100% on your'], [\"Find cheap flights to Hong Kong Intl (HKG) in 2019 using Skyscanner's flight comparison tool\", 'We compare all major airlines and travel agents for flights to Hong'], ['Looking for cheap flights to Hong Kong from your destination', 'Search for airfare and flight ticket deals at cheapflights.com and book your next flight today.'], ['Book Cheap Flights to Bangkok: Search and compare airfares on TripAdvisor to find the best flights for your trip to Bangkok', 'Choose the best airline for you by'], ['Flights to Bangkok from airlines such as American Airlines, Delta, United, JetBlue, Frontier, and more', 'Book your flight + hotel to save up to 100% on your flight.'], ['Find flights to Bangkok on China Southern, Major Airline, Air China and more', 'Fly round-trip from San Francisco from $418, from New York from $438, from San'], ['Flights to Bangkok (BKK, DMK): Search on Orbitz for cheap Bangkok flights, airlines, and airfares to Bangkok.']]\n"
     ]
    }
   ],
   "source": [
    "evaluate_algorithm(\n",
    "    \"Bert\",\n",
    "    extract_keywords_with_bert,\n",
    "    {\n",
    "        \"n_gram\": (1, 3),\n",
    "        \"print_time\": False,\n",
    "        \"model_name\": \"distilroberta-base-paraphrase-v1\"\n",
    "    },\n",
    "    delta=15,\n",
    "    print_x=True\n",
    ")"
   ]
  },
  {
   "cell_type": "code",
   "execution_count": null,
   "metadata": {},
   "outputs": [],
   "source": []
  },
  {
   "cell_type": "code",
   "execution_count": null,
   "metadata": {},
   "outputs": [],
   "source": []
  },
  {
   "cell_type": "code",
   "execution_count": null,
   "metadata": {},
   "outputs": [],
   "source": [
    "[\n",
    "    'Book Cheap Flights to Hong Kong: Search and compare airfares on TripAdvisor to find the best flights for your trip to Hong Kong',\n",
    "    'Choose the best airline for you'\n",
    "]"
   ]
  },
  {
   "cell_type": "code",
   "execution_count": null,
   "metadata": {},
   "outputs": [],
   "source": []
  }
 ],
 "metadata": {
  "kernelspec": {
   "display_name": "Python 3",
   "language": "python",
   "name": "python3"
  },
  "language_info": {
   "codemirror_mode": {
    "name": "ipython",
    "version": 3
   },
   "file_extension": ".py",
   "mimetype": "text/x-python",
   "name": "python",
   "nbconvert_exporter": "python",
   "pygments_lexer": "ipython3",
   "version": "3.8.6"
  }
 },
 "nbformat": 4,
 "nbformat_minor": 4
}
