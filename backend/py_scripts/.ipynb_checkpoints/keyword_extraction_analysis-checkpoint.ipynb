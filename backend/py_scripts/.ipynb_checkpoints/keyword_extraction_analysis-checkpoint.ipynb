{
 "cells": [
  {
   "cell_type": "code",
   "execution_count": 1,
   "metadata": {},
   "outputs": [],
   "source": [
    "import numpy as np\n",
    "import itertools\n",
    "import time\n",
    "import collections\n",
    "\n",
    "from sklearn.feature_extraction.text import CountVectorizer\n",
    "from sklearn.metrics.pairwise import cosine_similarity\n",
    "from sentence_transformers import SentenceTransformer, util\n",
    "from youtube_transcript_api import YouTubeTranscriptApi\n",
    "\n",
    "import pandas as pd\n",
    "from sklearn.feature_extraction.text import TfidfVectorizer\n",
    "\n",
    "from gensim.summarization import keywords\n",
    "from rake_nltk import Rake\n",
    "from gensim.summarization.keywords import get_graph\n",
    "import networkx as nx\n",
    "import matplotlib.pyplot as plt\n"
   ]
  },
  {
   "cell_type": "code",
   "execution_count": 2,
   "metadata": {},
   "outputs": [],
   "source": [
    "# TODO\n",
    "# Change delta? teacher talk slow\n",
    "# Change Model\n",
    "# Change input format (concat to a single string or stay splitted)\n",
    "# Filter similarity output, one keyword per unique sentence?\n",
    "# Size of dataset and how it affects TF-IDF"
   ]
  },
  {
   "cell_type": "markdown",
   "metadata": {},
   "source": [
    "## Data Retrieval and Processing"
   ]
  },
  {
   "cell_type": "code",
   "execution_count": 3,
   "metadata": {},
   "outputs": [],
   "source": [
    "def is_in_range(segment, time_low, time_high):\n",
    "    segment_low = segment['start']\n",
    "    segment_high = segment['start'] + segment['duration']\n",
    "    \n",
    "    if time_low <= segment_low <= time_high or time_low <= segment_high <= time_high:\n",
    "        return True\n",
    "    \n",
    "    return False\n",
    "\n",
    "def get_caption_segment(video_id, timestamp, duration, delta=15, concat_sentences=False):\n",
    "    raw_transcript = YouTubeTranscriptApi.get_transcript(video_id)\n",
    "    \n",
    "    low_timestamp = max(timestamp - delta, 0)\n",
    "    high_timestamp = min(timestamp + delta, duration)\n",
    "    \n",
    "    # Get rid of music\n",
    "    filtered_transcript = list(filter(lambda e: e['text'] != '[Music]', raw_transcript))\n",
    "    target_segment = filter(lambda e: is_in_range(e, low_timestamp, high_timestamp), filtered_transcript)\n",
    "    text_segments = list(map(lambda e: e['text'], list(target_segment)))\n",
    "    \n",
    "    if concat_sentences:\n",
    "        return \" \".join(text_segments)\n",
    "    \n",
    "    return text_segments"
   ]
  },
  {
   "cell_type": "code",
   "execution_count": 4,
   "metadata": {},
   "outputs": [],
   "source": [
    "video_id = \"vd0fMpAIs1s\"\n",
    "timestamp = 90\n",
    "duration = 255\n",
    "text = get_caption_segment(video_id, timestamp, duration, delta = 5)"
   ]
  },
  {
   "cell_type": "code",
   "execution_count": 5,
   "metadata": {},
   "outputs": [
    {
     "data": {
      "text/plain": [
       "['came to America',\n",
       " 'seeking independence from British rulers',\n",
       " 'they founded Virginia the first American',\n",
       " 'colony in 1607 settlers from many']"
      ]
     },
     "execution_count": 5,
     "metadata": {},
     "output_type": "execute_result"
    }
   ],
   "source": [
    "text"
   ]
  },
  {
   "cell_type": "markdown",
   "metadata": {},
   "source": [
    "## Timer Class"
   ]
  },
  {
   "cell_type": "code",
   "execution_count": 6,
   "metadata": {},
   "outputs": [],
   "source": [
    "class Timer:\n",
    "    def __init__(self, name=\"\"):\n",
    "        self.name = name\n",
    "        self.start_time = None\n",
    "    def __enter__(self):\n",
    "        self.start_time = time.perf_counter()\n",
    "    def __exit__(self, type, value, traceback):\n",
    "        end_time = time.perf_counter()\n",
    "        print(\"[Timer] {} Function took {}\".format(self.name, end_time - self.start_time))"
   ]
  },
  {
   "cell_type": "markdown",
   "metadata": {},
   "source": [
    "## Term Frequency Algorithm"
   ]
  },
  {
   "cell_type": "code",
   "execution_count": 7,
   "metadata": {},
   "outputs": [],
   "source": [
    "def extract_keyword_with_freq(sentences):\n",
    "    with Timer(\"Term Frequency\"):\n",
    "        counter = collections.Counter()\n",
    "        for sentence in sentences:\n",
    "            for word in sentence.split(\" \"):\n",
    "                counter.update({word: 1})\n",
    "                \n",
    "        print(counter.most_common(5))"
   ]
  },
  {
   "cell_type": "code",
   "execution_count": 8,
   "metadata": {},
   "outputs": [
    {
     "name": "stdout",
     "output_type": "stream",
     "text": [
      "[('from', 2), ('came', 1), ('to', 1), ('America', 1), ('seeking', 1)]\n",
      "[Timer] Term Frequency Function took 0.00016946499999903608\n"
     ]
    }
   ],
   "source": [
    "# Test run\n",
    "extract_keyword_with_freq(text)"
   ]
  },
  {
   "cell_type": "markdown",
   "metadata": {},
   "source": [
    "## TF-IDF Algorithm"
   ]
  },
  {
   "cell_type": "code",
   "execution_count": 284,
   "metadata": {},
   "outputs": [],
   "source": [
    "def extract_keyword_with_tfidf(sentences, use_stopwords=False):\n",
    "    with Timer(\"TFIDF\"):\n",
    "        stopwords = []\n",
    "        if use_stopwords:\n",
    "            stopwords = 'english'\n",
    "\n",
    "        tfIdfVectorizer=TfidfVectorizer(use_idf=True, stop_words=stopwords)\n",
    "        tfIdf = tfIdfVectorizer.fit_transform(text)\n",
    "        df = pd.DataFrame(tfIdf[0].T.todense(), index=tfIdfVectorizer.get_feature_names(), columns=[\"TF-IDF\"])\n",
    "        df = df.sort_values('TF-IDF', ascending=False)\n",
    "    print (df.head(5))"
   ]
  },
  {
   "cell_type": "code",
   "execution_count": 120,
   "metadata": {},
   "outputs": [
    {
     "name": "stdout",
     "output_type": "stream",
     "text": [
      "           TF-IDF\n",
      "1600s    0.409865\n",
      "back     0.409865\n",
      "early    0.409865\n",
      "english  0.409865\n",
      "in       0.330677\n",
      "[Timer] TFIDF Function took 0.0063915469945641235\n"
     ]
    }
   ],
   "source": [
    "# Test run\n",
    "extract_keyword_with_tfidf(text)"
   ]
  },
  {
   "cell_type": "markdown",
   "metadata": {},
   "source": [
    "## TextRank"
   ]
  },
  {
   "cell_type": "code",
   "execution_count": 288,
   "metadata": {},
   "outputs": [],
   "source": [
    "def extract_keywords_with_text_rank(sentences):\n",
    "    with Timer(\"TextRank\"):\n",
    "        words = keywords(\" \".join(sentences))\n",
    "    print(words)\n",
    "    \n",
    "    textGraph = get_graph(\" \".join(sentences))\n",
    "    graph = nx.Graph()\n",
    "    for edge in textGraph.edges():\n",
    "        graph.add_node(edge[0])\n",
    "        graph.add_node(edge[1])\n",
    "        graph.add_weighted_edges_from([(edge[0], edge[1], textGraph.edge_weight(edge))])\n",
    "\n",
    "        textGraph.edge_weight(edge)\n",
    "    pos = nx.spring_layout(graph)\n",
    "    plt.figure()\n",
    "    nx.draw(graph, pos, edge_color='black', width=1, linewidths=1,\n",
    "            node_size=500, node_color='seagreen', alpha=0.9,\n",
    "            labels={node: node for node in graph.nodes()})\n",
    "    plt.axis('off')\n",
    "    plt.show()"
   ]
  },
  {
   "cell_type": "code",
   "execution_count": 146,
   "metadata": {},
   "outputs": [
    {
     "name": "stdout",
     "output_type": "stream",
     "text": [
      "seeking\n",
      "settlers\n",
      "[Timer] TextRank Function took 0.005393190003815107\n"
     ]
    },
    {
     "data": {
      "image/png": "[encoded data removed]",
      "text/plain": [
       "<Figure size 432x288 with 1 Axes>"
      ]
     },
     "metadata": {},
     "output_type": "display_data"
    }
   ],
   "source": [
    "# Test Run\n",
    "extract_keywords_with_text_rank(text)"
   ]
  },
  {
   "cell_type": "markdown",
   "metadata": {},
   "source": [
    "## Rake Algorithm"
   ]
  },
  {
   "cell_type": "code",
   "execution_count": 285,
   "metadata": {},
   "outputs": [],
   "source": [
    "# Parameters to tune\n",
    "# https://pypi.org/project/rake-nltk/\n",
    "def extract_keywords_with_rake(sentences):\n",
    "    with Timer(\"Rake\"):\n",
    "        rake = Rake()\n",
    "        rake.extract_keywords_from_text(\" \".join(sentences))\n",
    "    print(rake.get_ranked_phrases_with_scores()[:4])"
   ]
  },
  {
   "cell_type": "code",
   "execution_count": 166,
   "metadata": {},
   "outputs": [
    {
     "name": "stdout",
     "output_type": "stream",
     "text": [
      "[(23.5, 'early 1600s english settlers came'), (9.0, 'first american colony'), (9.0, 'america seeking independence'), (5.5, '1607 settlers')]\n",
      "[Timer] Rake Function took 0.002311039002961479\n"
     ]
    }
   ],
   "source": [
    "# Test Run\n",
    "extract_keywords_with_rake(text)"
   ]
  },
  {
   "cell_type": "markdown",
   "metadata": {},
   "source": [
    "## Bert Algorithm"
   ]
  },
  {
   "cell_type": "code",
   "execution_count": 189,
   "metadata": {},
   "outputs": [],
   "source": [
    "def extract_keywords_with_bert(sentences, n_gram=(1,1), use_stop_words=True, model_name='distilbert-base-nli-mean-tokens'):\n",
    "    with Timer(\"Bert\"):\n",
    "        n_gram_range = n_gram\n",
    "\n",
    "        stop_words = []\n",
    "        if use_stop_words:\n",
    "            stop_words = 'english'\n",
    "\n",
    "        # Extract candidate words/phrases\n",
    "        count = CountVectorizer(ngram_range=n_gram_range, stop_words=stop_words).fit(sentences)\n",
    "        candidates = count.get_feature_names()\n",
    "\n",
    "        model = SentenceTransformer(model_name)\n",
    "        doc_embedding = model.encode(sentences, convert_to_tensor=True)\n",
    "        candidate_embeddings = model.encode(candidates, convert_to_tensor=True)\n",
    "\n",
    "        cosine_scores = util.pytorch_cos_sim(doc_embedding, candidate_embeddings)\n",
    "\n",
    "    keywords = [candidates[index] for index in cosine_scores.argsort()[0][-top_n:]]\n",
    "    print(keywords[:5])\n",
    "#         #Output the pairs with their score\n",
    "#         for i in range(len(sentences)):\n",
    "#             print(\"{} -- {} -- Score: {:.4f}\".format(sentences[i], candidates[i], cosine_scores[i][i]))"
   ]
  },
  {
   "cell_type": "code",
   "execution_count": 190,
   "metadata": {},
   "outputs": [
    {
     "name": "stdout",
     "output_type": "stream",
     "text": [
      "[Timer] Bert Function took 1.0935177310020663\n",
      "['colony', 'founded', 'american', 'early', 'america']\n"
     ]
    }
   ],
   "source": [
    "# Test Run\n",
    "extract_keywords_with_bert(text)"
   ]
  },
  {
   "cell_type": "code",
   "execution_count": 273,
   "metadata": {},
   "outputs": [],
   "source": [
    "video_id = \"vd0fMpAIs1s\"\n",
    "timestamp = 85\n",
    "duration = 255\n",
    "text = get_caption_segment(video_id, timestamp, duration, delta = 10)"
   ]
  },
  {
   "cell_type": "code",
   "execution_count": 274,
   "metadata": {},
   "outputs": [
    {
     "data": {
      "text/plain": [
       "['back in the early 1600s English settlers',\n",
       " 'came to America',\n",
       " 'seeking independence from British rulers',\n",
       " 'they founded Virginia the first American',\n",
       " 'colony in 1607 settlers from many']"
      ]
     },
     "execution_count": 274,
     "metadata": {},
     "output_type": "execute_result"
    }
   ],
   "source": [
    "text"
   ]
  },
  {
   "cell_type": "code",
   "execution_count": 275,
   "metadata": {},
   "outputs": [
    {
     "name": "stdout",
     "output_type": "stream",
     "text": [
      "[Timer] Bert Function took 1.6102744930103654\n",
      "['founded virginia', 'first american colony', '1607 settlers from', '1607 settlers', 'in 1607 settlers']\n"
     ]
    }
   ],
   "source": [
    "extract_keywords_with_bert([\" \".join(text)], (1, 3), use_stop_words=False)"
   ]
  },
  {
   "cell_type": "code",
   "execution_count": 276,
   "metadata": {},
   "outputs": [
    {
     "name": "stdout",
     "output_type": "stream",
     "text": [
      "[(23.5, 'early 1600s english settlers came'), (9.0, 'first american colony'), (9.0, 'america seeking independence'), (5.5, '1607 settlers')]\n",
      "[Timer] Rake Function took 0.0020656319975387305\n"
     ]
    }
   ],
   "source": [
    "extract_keywords_with_rake(text)"
   ]
  },
  {
   "cell_type": "code",
   "execution_count": 277,
   "metadata": {},
   "outputs": [
    {
     "name": "stdout",
     "output_type": "stream",
     "text": [
      "seeking\n",
      "settlers\n",
      "[Timer] TextRank Function took 0.004321635002270341\n"
     ]
    },
    {
     "data": {
      "image/png": "[encoded data removed]",
      "text/plain": [
       "<Figure size 432x288 with 1 Axes>"
      ]
     },
     "metadata": {},
     "output_type": "display_data"
    }
   ],
   "source": [
    "extract_keywords_with_text_rank(text)"
   ]
  },
  {
   "cell_type": "code",
   "execution_count": 278,
   "metadata": {},
   "outputs": [
    {
     "name": "stdout",
     "output_type": "stream",
     "text": [
      "           TF-IDF\n",
      "1600s    0.409865\n",
      "back     0.409865\n",
      "early    0.409865\n",
      "english  0.409865\n",
      "in       0.330677\n",
      "[Timer] TFIDF Function took 0.008195941991289146\n"
     ]
    }
   ],
   "source": [
    "extract_keyword_with_tfidf(text)"
   ]
  },
  {
   "cell_type": "code",
   "execution_count": 286,
   "metadata": {},
   "outputs": [],
   "source": [
    "fixed_text = ['back in the early 1600s, English settlers came to America seeking independence from British rulers.',\n",
    " 'they founded Virginia the first American colony in 1607.']"
   ]
  },
  {
   "cell_type": "code",
   "execution_count": 291,
   "metadata": {},
   "outputs": [
    {
     "name": "stdout",
     "output_type": "stream",
     "text": [
      "[Timer] Bert Function took 1.446461639003246\n",
      "['early 1600s', 'america', 'to america', 'america seeking', 'first american']\n",
      "[Timer] Rake Function took 0.0006993020069785416\n",
      "[(9.0, 'first american colony'), (9.0, 'english settlers came'), (9.0, 'america seeking independence'), (4.0, 'founded virginia')]\n",
      "[Timer] TextRank Function took 0.0024132550024660304\n",
      "settlers\n",
      "seeking\n"
     ]
    },
    {
     "data": {
      "image/png": "[encoded data removed]",
      "text/plain": [
       "<Figure size 432x288 with 1 Axes>"
      ]
     },
     "metadata": {},
     "output_type": "display_data"
    },
    {
     "name": "stdout",
     "output_type": "stream",
     "text": [
      "[Timer] TFIDF Function took 0.0038692640082444996\n",
      "           TF-IDF\n",
      "1600s    0.409865\n",
      "back     0.409865\n",
      "early    0.409865\n",
      "english  0.409865\n",
      "in       0.330677\n"
     ]
    }
   ],
   "source": [
    "extract_keywords_with_bert(fixed_text, (1, 2), use_stop_words=False)\n",
    "extract_keywords_with_rake(fixed_text)\n",
    "extract_keywords_with_text_rank(fixed_text)\n",
    "extract_keyword_with_tfidf(fixed_text)"
   ]
  },
  {
   "cell_type": "code",
   "execution_count": null,
   "metadata": {},
   "outputs": [],
   "source": []
  },
  {
   "cell_type": "code",
   "execution_count": null,
   "metadata": {},
   "outputs": [],
   "source": []
  },
  {
   "cell_type": "code",
   "execution_count": null,
   "metadata": {},
   "outputs": [],
   "source": []
  },
  {
   "cell_type": "code",
   "execution_count": null,
   "metadata": {},
   "outputs": [],
   "source": []
  },
  {
   "cell_type": "code",
   "execution_count": 261,
   "metadata": {},
   "outputs": [],
   "source": [
    "video_id = \"VPdE5aOH52g\"\n",
    "timestamp = 180\n",
    "duration = 356\n",
    "text = get_caption_segment(video_id, timestamp, duration, delta = 10)"
   ]
  },
  {
   "cell_type": "code",
   "execution_count": 262,
   "metadata": {},
   "outputs": [
    {
     "data": {
      "text/plain": [
       "['see a four of the tens place I know if',\n",
       " \"it's 4 or lower we have to round down\",\n",
       " 'the prayer in the hundreds place is',\n",
       " 'underlined so we have to round the 4 in',\n",
       " 'the hundreds place to 400 when rounding',\n",
       " 'to the hundreds place the number in the',\n",
       " 'tens in ones place becomes zeros',\n",
       " 'now I know about 400 pieces of fruit for']"
      ]
     },
     "execution_count": 262,
     "metadata": {},
     "output_type": "execute_result"
    }
   ],
   "source": [
    "text"
   ]
  },
  {
   "cell_type": "code",
   "execution_count": 263,
   "metadata": {},
   "outputs": [
    {
     "name": "stdout",
     "output_type": "stream",
     "text": [
      "[Timer] Bert Function took 2.029727892993833\n",
      "['400 when', 'to 400', 'about 400', 'place to 400', 'to 400 when']\n"
     ]
    }
   ],
   "source": [
    "extract_keywords_with_bert([\" \".join(text)], (1, 3), use_stop_words=False)"
   ]
  },
  {
   "cell_type": "code",
   "execution_count": 264,
   "metadata": {},
   "outputs": [
    {
     "name": "stdout",
     "output_type": "stream",
     "text": [
      "[(14.666666666666666, 'ones place becomes zeros'), (4.666666666666666, 'hundreds place'), (4.166666666666666, 'tens place'), (3.5, '400 pieces')]\n",
      "[Timer] Rake Function took 0.001994054007809609\n"
     ]
    }
   ],
   "source": [
    "extract_keywords_with_rake(text)"
   ]
  },
  {
   "cell_type": "code",
   "execution_count": null,
   "metadata": {},
   "outputs": [],
   "source": []
  }
 ],
 "metadata": {
  "kernelspec": {
   "display_name": "Python 3",
   "language": "python",
   "name": "python3"
  },
  "language_info": {
   "codemirror_mode": {
    "name": "ipython",
    "version": 3
   },
   "file_extension": ".py",
   "mimetype": "text/x-python",
   "name": "python",
   "nbconvert_exporter": "python",
   "pygments_lexer": "ipython3",
   "version": "3.8.6"
  }
 },
 "nbformat": 4,
 "nbformat_minor": 4
}
